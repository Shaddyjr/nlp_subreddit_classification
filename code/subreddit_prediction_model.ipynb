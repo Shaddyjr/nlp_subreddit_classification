{
 "cells": [
  {
   "cell_type": "markdown",
   "metadata": {},
   "source": [
    "# Distinguishing between subreddits: \"One Punch Man\" VS \"Death Note\""
   ]
  },
  {
   "cell_type": "markdown",
   "metadata": {},
   "source": [
    "## Problem Statement\n",
    "\n",
    "A devious troll has hacked Reddit! They posted the following:\n",
    "\n",
    "> When an anime character can simply kill opponents in one punch or by writing a name in a notebook, the plot quickly becomes stale and boring! Such shows become indistinguishable from each other. As proof, I've randomly swapped posts between r/OnePunchMan and r/deathnote - not that anyone could tell the difference, since there is virtually no difference between these shows.  \n",
    "> &nbsp;&nbsp;&nbsp;&nbsp;&nbsp;&nbsp; - *Boop*\n",
    "\n",
    "Fortunately, we've recently stored posts from both r/OnePunchMan and r/deathnote.   \n",
    "\n",
    "Using Natural Language Processing, we should be able to develop a classification model (Logistic Regression, K-nearest Neighbors, Naive Bayes, etc.) to accurately predict which subreddit a post belongs to based on its title alone. Accuracy will be used to assess model effectiveness.\n",
    "\n",
    "If an effective model can be found, we can undo the havoc caused by the hacker, while also disproving their belief these shows are the same! __\"One Punch Man\" and \"Death Note\" fans on Reddit__ will be able to enjoy their online spaces in peace and __Reddit developers__ would have a potential model to use, should such an incident were to happen again."
   ]
  },
  {
   "cell_type": "markdown",
   "metadata": {},
   "source": [
    "## Executive Summary\n",
    "When we started this project, we assumed the difference between the r/deathnote and r/OnePunchMan would be simply reliant on words related to their unique named characters and places as well as topics, such as \"death\" in Death Note. During the EDA and afterwards, while investigating my final model, it was clear the data had more going on than we gave it credit for. Of course there were tight associations with the named characters, but we did not anticipate seeing temporal features. Likewise, there were some words that had a strong connection with r/deathnote that we still cannot explain.\n",
    "\n",
    "Given the vast number of classification models and combining them with 2 different vectorizors quickly got out of hand. This forced me to streamline the model exploration process and develop a deliberate and repeatable workflow. We first attempted to resolve the issue by creating a complex `EnsembleGridSearchCV`, which worked much like `GridSearchCV`, but for  multiple models. It took in a list of transformers and estimators as well as a dictionary of parameters and did a grid search across all transformer + estimator combinations, returning a `VotingClassifier` combining all of the optimized models into one model. This was ultimately scrapped for being overly complicated (not to mention it took too long to process!).\n",
    "\n",
    "We settled for a more lightweight solution in creating the `AdvancedGridSearch` function to simply handle a single `Pipeline` estimator and optimize for it.  \n",
    "\n",
    "We were also surprised by the high model accuracy we began seeing right away. The distinct nature of the subreddits were clearly strong, but the reason for that distinction had little to do with the shows themselves, but rather an indirect indicator of whether the show was currently in production or not (One Punch Man only recently ended its 2nd season, while Death Note was finished years ago). \n",
    "\n",
    "Also surprising was the optimum model was not a typically high performing one (such as an ensemble). We learned that, as great as the ensemble class of models are, there is still benefit in exploring simplier models first. It really is better to start exploring the data with a basic model and use those findings to make informed decisions in progressing onto more complex and fine-tuned models. After seeing such high accuracy with the Logistic Regression or even the Naive Bayes models, there really was little rational to continue exploring more complicated models - especially those designed to address problems of overfitting or high variance (something we were not seeing!)."
   ]
  },
  {
   "cell_type": "markdown",
   "metadata": {},
   "source": [
    "## Table of Contents"
   ]
  },
  {
   "cell_type": "markdown",
   "metadata": {},
   "source": [
    "1. [Gathering the Data](#Gathering-the-Data) \n",
    "1. [Loading Libraries and Data](#Loading-Libraries-and-Data)\n",
    "1. [Data Cleaning](#Data-Cleaning) \n",
    "1. [Exploratory Data Analysis](#Exploratory-Data-Analysis) \n",
    "1. [Preprocessing corpus](#Preprocessing-corpus)\n",
    "1. [Visualizing preprocessed words](#Visualizing-preprocessed-words)\n",
    "1. [Model Preparation](#Model-Preparation) \n",
    "1. [Modeling](#Modeling) \n",
    "1. [Model Selection](#Model-Selection) \n",
    "1. [Model Evaluation](#Model-Evaluation) \n",
    "1. [Conclusion](#Conclusion)\n",
    "1. [Assumptions](#Assumptions)\n",
    "1. [Recommendations](#Recommendations)\n",
    "1. [References](#References)"
   ]
  },
  {
   "cell_type": "markdown",
   "metadata": {},
   "source": [
    "## Gathering the Data\n",
    "The data obtained come from the [OnePunchMan](https://www.reddit.com/r/OnePunchMan/) and [deathnote](https://www.reddit.com/r/deathnote/) subreddits from the [Reddit API](https://www.reddit.com/dev/api/).\n",
    "\n",
    "Given the time-dependent nature of pulling data from a \"live\" API, it is relevent to mention these data were gathered on or about Wednesday July 10th, 2019.  \n",
    "\n",
    "Please see the associated `gathering_data.py` file for the data collection process."
   ]
  },
  {
   "cell_type": "markdown",
   "metadata": {},
   "source": [
    "## Loading Libraries and Data"
   ]
  },
  {
   "cell_type": "code",
   "execution_count": 155,
   "metadata": {},
   "outputs": [],
   "source": [
    "import re\n",
    "import emoji #😲\n",
    "import toyplot.data\n",
    "import pandas as pd\n",
    "import numpy as np\n",
    "import matplotlib.pyplot as plt\n",
    "import seaborn as sns\n",
    "import warnings\n",
    "\n",
    "from math import floor\n",
    "from types import MethodType\n",
    "\n",
    "from sklearn.feature_extraction.text import CountVectorizer, TfidfVectorizer\n",
    "from sklearn.pipeline import Pipeline\n",
    "from sklearn.model_selection import train_test_split, cross_val_score, GridSearchCV\n",
    "from sklearn.linear_model import LogisticRegression\n",
    "from sklearn.metrics import confusion_matrix, roc_curve, roc_auc_score, accuracy_score\n",
    "from sklearn.neighbors import KNeighborsClassifier\n",
    "from sklearn.tree import DecisionTreeClassifier\n",
    "from nltk.stem.snowball import SnowballStemmer\n",
    "from sklearn.naive_bayes import MultinomialNB, GaussianNB\n",
    "from sklearn.ensemble import BaggingClassifier, RandomForestClassifier, AdaBoostClassifier, ExtraTreesClassifier, VotingClassifier, GradientBoostingClassifier\n",
    "from sklearn.dummy import DummyClassifier\n",
    "from sklearn.base import TransformerMixin\n",
    "\n",
    "warnings.filterwarnings(\"ignore\") #Shhhhhhh\n",
    "\n",
    "RANDOM_STATE = 525600 # \"Seasons of Love\"\n",
    "np.random.seed(RANDOM_STATE)"
   ]
  },
  {
   "cell_type": "code",
   "execution_count": 69,
   "metadata": {},
   "outputs": [],
   "source": [
    "data_file = \"../data/subreddit_data.csv\"\n",
    "df = pd.read_csv(data_file)"
   ]
  },
  {
   "cell_type": "code",
   "execution_count": 70,
   "metadata": {},
   "outputs": [
    {
     "data": {
      "text/html": [
       "<div>\n",
       "<style scoped>\n",
       "    .dataframe tbody tr th:only-of-type {\n",
       "        vertical-align: middle;\n",
       "    }\n",
       "\n",
       "    .dataframe tbody tr th {\n",
       "        vertical-align: top;\n",
       "    }\n",
       "\n",
       "    .dataframe thead th {\n",
       "        text-align: right;\n",
       "    }\n",
       "</style>\n",
       "<table border=\"1\" class=\"dataframe\">\n",
       "  <thead>\n",
       "    <tr style=\"text-align: right;\">\n",
       "      <th></th>\n",
       "      <th>subreddit</th>\n",
       "      <th>title</th>\n",
       "    </tr>\n",
       "  </thead>\n",
       "  <tbody>\n",
       "    <tr>\n",
       "      <th>0</th>\n",
       "      <td>0</td>\n",
       "      <td>Totally accurate</td>\n",
       "    </tr>\n",
       "    <tr>\n",
       "      <th>1</th>\n",
       "      <td>0</td>\n",
       "      <td>I like this picture of L a lot</td>\n",
       "    </tr>\n",
       "    <tr>\n",
       "      <th>2</th>\n",
       "      <td>0</td>\n",
       "      <td>So idk how many of you guys have seen the glor...</td>\n",
       "    </tr>\n",
       "  </tbody>\n",
       "</table>\n",
       "</div>"
      ],
      "text/plain": [
       "   subreddit                                              title\n",
       "0          0                                   Totally accurate\n",
       "1          0                     I like this picture of L a lot\n",
       "2          0  So idk how many of you guys have seen the glor..."
      ]
     },
     "execution_count": 70,
     "metadata": {},
     "output_type": "execute_result"
    }
   ],
   "source": [
    "df.head(3)"
   ]
  },
  {
   "cell_type": "markdown",
   "metadata": {},
   "source": [
    "## Data Cleaning\n",
    "\n",
    "Using the `gathering_data.py` file, duplicate entries are removed and the target variable, \"subreddit\", represents the two subreddits as follows:\n",
    "- Death Note = 0\n",
    "- One Punch Man = 1  "
   ]
  },
  {
   "cell_type": "code",
   "execution_count": 71,
   "metadata": {},
   "outputs": [
    {
     "data": {
      "text/plain": [
       "count                                                  1572\n",
       "unique                                                 1572\n",
       "top       [Latest Episode] Moment from last episode was ...\n",
       "freq                                                      1\n",
       "Name: title, dtype: object"
      ]
     },
     "execution_count": 71,
     "metadata": {},
     "output_type": "execute_result"
    }
   ],
   "source": [
    "# checking for any remaining \"title\" duplicates\n",
    "df[\"title\"].describe()"
   ]
  },
  {
   "cell_type": "markdown",
   "metadata": {},
   "source": [
    "There are no duplicate titles."
   ]
  },
  {
   "cell_type": "markdown",
   "metadata": {},
   "source": [
    "### Handling Null Values"
   ]
  },
  {
   "cell_type": "code",
   "execution_count": 72,
   "metadata": {},
   "outputs": [
    {
     "data": {
      "text/plain": [
       "subreddit    0\n",
       "title        0\n",
       "dtype: int64"
      ]
     },
     "execution_count": 72,
     "metadata": {},
     "output_type": "execute_result"
    }
   ],
   "source": [
    "df.isnull().sum()"
   ]
  },
  {
   "cell_type": "markdown",
   "metadata": {},
   "source": [
    "No null values were found. This is a complete dataset."
   ]
  },
  {
   "cell_type": "markdown",
   "metadata": {},
   "source": [
    "## Exploratory Data Analysis\n",
    "Given the text data, we will use Natural Language Processing to explore any trends, outliers, or any issues that may come up during modeling."
   ]
  },
  {
   "cell_type": "markdown",
   "metadata": {},
   "source": [
    "### Class balance"
   ]
  },
  {
   "cell_type": "code",
   "execution_count": 73,
   "metadata": {},
   "outputs": [
    {
     "data": {
      "text/plain": [
       "(1572, 2)"
      ]
     },
     "execution_count": 73,
     "metadata": {},
     "output_type": "execute_result"
    }
   ],
   "source": [
    "df.shape"
   ]
  },
  {
   "cell_type": "code",
   "execution_count": 74,
   "metadata": {},
   "outputs": [
    {
     "data": {
      "text/plain": [
       "0    0.613232\n",
       "1    0.386768\n",
       "Name: subreddit, dtype: float64"
      ]
     },
     "execution_count": 74,
     "metadata": {},
     "output_type": "execute_result"
    }
   ],
   "source": [
    "df[\"subreddit\"].value_counts(normalize = True)"
   ]
  },
  {
   "cell_type": "markdown",
   "metadata": {},
   "source": [
    "The data has 1572 observations with roughly 39% belonging to the \"positive\" target (r/OnePunchMan) and roughly 61% belonging to the \"negative\" target (r/deathnote).\n",
    "\n",
    "There is a slight class unbalance, but nothing too substantial. During modeling, we may have to keep this concern in mind."
   ]
  },
  {
   "cell_type": "markdown",
   "metadata": {},
   "source": [
    "### Visualizing words\n",
    "Observing the frequency of words is a good first step in exploring common trends in the data. we'll create a simple bar chart to help visualize word frequency."
   ]
  },
  {
   "cell_type": "code",
   "execution_count": 75,
   "metadata": {},
   "outputs": [],
   "source": [
    "all_words = pd.DataFrame(sum(list(df[\"title\"].map(lambda x: x.split())), []))\n",
    "count_thresh = 75\n",
    "word_counts = all_words[0].value_counts()\n",
    "df_word_counts = pd.DataFrame(word_counts[word_counts >= count_thresh])\n",
    "size = 18"
   ]
  },
  {
   "cell_type": "code",
   "execution_count": 76,
   "metadata": {},
   "outputs": [
    {
     "data": {
      "image/png": "[encoded data removed]",
      "text/plain": [
       "<Figure size 576x432 with 1 Axes>"
      ]
     },
     "metadata": {
      "needs_background": "light"
     },
     "output_type": "display_data"
    }
   ],
   "source": [
    "plt.figure(figsize = (8,6))\n",
    "b = sns.barplot(x = df_word_counts[0], y = df_word_counts.index, orient = \"h\")\n",
    "b.set_title(\"Most frequent words\", fontsize = size * 4/3, pad = size)\n",
    "b.set_xlabel(\"Frequency\", fontsize = size)\n",
    "b.set_ylabel(\"Words\", fontsize = size);"
   ]
  },
  {
   "cell_type": "markdown",
   "metadata": {},
   "source": [
    "Unsurprisingly, we can see common words, such as \"the\" and \"a\", occur at a high frequency in this unprocessed corpus. Given the commonality of such words, it would be reasonable to assume they do not contribute much meaningful information overall, and can be removed without affecting the overal sentiment of each document.\n",
    "\n",
    "Likewise, we can see the inclusion of special characters, such as the square brackets seen with \"Spoilers]\" and \"[No\". We feel confident in assuming these special non-alphabetic characters can also be safely removed without significantly altering the sentiment of each document.\n",
    "\n",
    "_These assumptions must be kept in consideration when looking at the model, however, as there is a chance some of the classification power may be lost by removing these text features._"
   ]
  },
  {
   "cell_type": "markdown",
   "metadata": {},
   "source": [
    "## Emojis 😋"
   ]
  },
  {
   "cell_type": "code",
   "execution_count": 77,
   "metadata": {},
   "outputs": [
    {
     "data": {
      "text/plain": [
       "37       🧐\n",
       "944      😬\n",
       "309    😂 😂\n",
       "910      💓\n",
       "832     👌🏻\n",
       "Name: title, dtype: object"
      ]
     },
     "execution_count": 77,
     "metadata": {},
     "output_type": "execute_result"
    }
   ],
   "source": [
    "df[\"title\"].sort_values(ascending = False)[:5]"
   ]
  },
  {
   "cell_type": "markdown",
   "metadata": {},
   "source": [
    "Although rare, we can see emoticons may be present in some documents.  \n",
    "We have choose not to remove these data points, as emoticons do convey sentiment, and should therefore remain included.\n",
    "\n",
    "During tokenization, we'll account for emojis using the `emoji` python package."
   ]
  },
  {
   "cell_type": "markdown",
   "metadata": {},
   "source": [
    "## Creating custom processing variables"
   ]
  },
  {
   "cell_type": "markdown",
   "metadata": {},
   "source": [
    "### Stop Words\n",
    "There are lists of english \"stop words\" we could use for preprocessing the documents. After some brief exploration, it was clear the standard list of \"stop words\" was too exhaustive and was removing many key features of the data leading to poor model performance. We've opted to create an abridged customized \"stop words\" list."
   ]
  },
  {
   "cell_type": "code",
   "execution_count": 78,
   "metadata": {},
   "outputs": [],
   "source": [
    "custom_stop_words = [\n",
    "    'what', 'is', 'the', 'on', 'how', 'my', 'would', 'it', 'for', 'in',\n",
    "    'be', 'me', 'if', 'so', 'and', 'to', 'from', 'with', 'do', 'of',\n",
    "    'think', 'you', 'that', 'anim', 'one', 'manga','this',\n",
    "    'about', 'was', 'have', 'whi', 'can', 'all', 'by', 'but'\n",
    "]"
   ]
  },
  {
   "cell_type": "markdown",
   "metadata": {},
   "source": [
    "### Handling Emojis\n",
    "The following preprocessing function will be used by vectorizers to convert document emojies into raw text"
   ]
  },
  {
   "cell_type": "code",
   "execution_count": 79,
   "metadata": {},
   "outputs": [],
   "source": [
    "def custom_preprocess(string):\n",
    "    string = emoji.demojize(string.lower(), delimiters = (\" \", \" \")) # convert emojis into strings\n",
    "    string = string.replace(\"spoilers\",\"spoiler\") # stemmer was not converting properly this important word\n",
    "    return string "
   ]
  },
  {
   "cell_type": "code",
   "execution_count": 80,
   "metadata": {},
   "outputs": [
    {
     "data": {
      "text/plain": [
       "' smiling_face_with_sunglasses '"
      ]
     },
     "execution_count": 80,
     "metadata": {},
     "output_type": "execute_result"
    }
   ],
   "source": [
    "# testing `custom_preprocess` function\n",
    "custom_preprocess(\"😎\")"
   ]
  },
  {
   "cell_type": "markdown",
   "metadata": {},
   "source": [
    "### Tokenizer RegEx\n",
    "Given our subject knowledge, we've found an issue in the data that needs to be addressed.  \n",
    "\n",
    "In the \"Death Note\" anime, there is a significant character simply named 'L'. The vectorizers we're using to transform the corpus automatically ignore single-letter words. In order to properly expose this significant data point, we will modify how single letters are treated during our preprocessing step by creating a custom tokenizer using regular expressions."
   ]
  },
  {
   "cell_type": "code",
   "execution_count": 81,
   "metadata": {},
   "outputs": [],
   "source": [
    "# RegEx all words with at least 2 letters OR the letter \"L\"\n",
    "include_singles = r\"\\w{2,}|[lL]\""
   ]
  },
  {
   "cell_type": "markdown",
   "metadata": {},
   "source": [
    "## Stemming\n",
    "Often, the Natural Languange Processing will include some way of converting words to their root or stem as a way of combining similar sentiments. We've chosen to use a stemming technique known as [Snowball Stemmer](http://www.nltk.org/howto/stem.html), which is considered to perform better than the Porter Stemmer."
   ]
  },
  {
   "cell_type": "code",
   "execution_count": 82,
   "metadata": {},
   "outputs": [],
   "source": [
    "stemmer = SnowballStemmer(\"english\")\n",
    "df[\"title\"] = df[\"title\"].apply(lambda words: \" \".join([stemmer.stem(word) for word in words.split()]))\n",
    "# NOTE: .stem() works on individual tokens and NOT the entire document, hence the need to split"
   ]
  },
  {
   "cell_type": "markdown",
   "metadata": {},
   "source": [
    "## Preprocessing corpus\n",
    "For this Natural Language Processing problem, we'll explore two methods for vectorizing textual data:\n",
    "\n",
    "- __CountVectorizer__ offers an intuitive count of each word by document  \n",
    "- __TfidfVectorizer__ penalizes word frequency across the entire corpus"
   ]
  },
  {
   "cell_type": "code",
   "execution_count": 83,
   "metadata": {},
   "outputs": [],
   "source": [
    "vectorization_params = {\n",
    "    \"stop_words\"   : custom_stop_words,\n",
    "    \"token_pattern\": include_singles, \n",
    "    \"preprocessor\" : custom_preprocess,\n",
    "    \"strip_accents\": \"ascii\"\n",
    "}\n",
    "\n",
    "# establishing these now for later model preprocessing\n",
    "cvec = CountVectorizer(**vectorization_params)\n",
    "tfidf = TfidfVectorizer(**vectorization_params)"
   ]
  },
  {
   "cell_type": "markdown",
   "metadata": {},
   "source": [
    "## Visualizing preprocessed words\n",
    "Viewing the preprocessed corpus can now give us a better idea of the more meaningful parts of the data are as well as some insight into innate differences between the two subreddits.\n",
    "\n",
    "_NOTE: Only CountVectorizer is being used here_"
   ]
  },
  {
   "cell_type": "code",
   "execution_count": 84,
   "metadata": {},
   "outputs": [],
   "source": [
    "# using different CountVectorizer as not to confuse with one used for models\n",
    "prep_cvec = CountVectorizer(**vectorization_params)\n",
    "feature_counts = pd.DataFrame(data = prep_cvec.fit_transform(df[\"title\"]).toarray(), columns = prep_cvec.get_feature_names()).sum()\n",
    "feature_counts.index = [\"L\" if i == \"l\" else i for i in feature_counts.index]\n",
    "df_filtered_word_counts = pd.DataFrame(feature_counts.sort_values(ascending = False)[:10])"
   ]
  },
  {
   "cell_type": "code",
   "execution_count": 87,
   "metadata": {},
   "outputs": [
    {
     "data": {
      "image/png": "[encoded data removed]",
      "text/plain": [
       "<Figure size 576x432 with 1 Axes>"
      ]
     },
     "metadata": {
      "needs_background": "light"
     },
     "output_type": "display_data"
    }
   ],
   "source": [
    "size = 18\n",
    "\n",
    "# establishing custom color variables\n",
    "neutral, death, punch = \"#C0E0DE\", \"#020402\", \"#D7263D\"\n",
    "word_pattern = [neutral, neutral, death, death, death, death, neutral, punch, neutral, punch]\n",
    "plt.figure(figsize = (8,6))\n",
    "b = sns.barplot(x = df_filtered_word_counts[0], y = df_filtered_word_counts.index, orient = \"h\", palette = word_pattern)\n",
    "\n",
    "b.set_title(\"Top 10 most frequent preprocessed words\", fontsize = size * 4/3, pad = size)\n",
    "b.tick_params(labelsize = size)\n",
    "b.set_xlabel(\"Frequency\", fontsize = size)\n",
    "b.set_ylabel(\"Preprocessed Words\", fontsize = size);\n",
    "leg = b.legend(labels=[\"Neutral\",\"Death Note\",\"One Punch\"],fontsize=\"large\",fancybox=True, framealpha=1, shadow=True, borderpad=1)\n",
    "leg_lines = leg.get_lines()\n",
    "leg_lines[0].set_color(neutral);leg_lines[1].set_color(death);leg_lines[2].set_color(punch)\n",
    "for line in leg_lines:\n",
    "    line.set_linewidth(10)"
   ]
  },
  {
   "cell_type": "markdown",
   "metadata": {},
   "source": [
    "*NOTE: I've added a subjective color distinction to denote the words I feel are most closely associated with either subreddit*  \n",
    " \n",
    "Looking at the most frequent words, we can see \"no\" and \"spoilers\" are quite common. This is not entirely surprising, considering the subject matter - \"no spoilers\" is a common signal to readers to inform them a post's content does not give away any important plot details.\n",
    "\n",
    "\"death\", \"note\", \"light\", and \"L\" are all relevant to Death Note, so these also make intuitive sense.  \n",
    "\n",
    "Surprisingly, One Punch Man related words were not as common as Death Note related words - \"saitama\" and \"garou\" are the main protagonist and antagonist from One Punch Man.  "
   ]
  },
  {
   "cell_type": "markdown",
   "metadata": {},
   "source": [
    "### Most frequent words by subreddit\n",
    "To get a better understanding of unique characteristics, we'll explore words frequency for each subreddit."
   ]
  },
  {
   "cell_type": "code",
   "execution_count": 58,
   "metadata": {},
   "outputs": [
    {
     "data": {
      "image/png": "[encoded data removed]",
      "text/plain": [
       "<Figure size 1152x432 with 2 Axes>"
      ]
     },
     "metadata": {
      "needs_background": "light"
     },
     "output_type": "display_data"
    }
   ],
   "source": [
    "plt.figure(figsize = (16,6))\n",
    "\n",
    "# custom coloring scheme\n",
    "word_patterns = [\n",
    "    [death, death, death, death, neutral, neutral, neutral, neutral, death, neutral],\n",
    "    [neutral, neutral, punch, punch, neutral, neutral, punch, punch, punch, neutral]\n",
    "]\n",
    "names = [\"r/deathnote\",\"r/OnePunchMan\"]\n",
    "\n",
    "for i in range(2):\n",
    "    feature_counts = pd.DataFrame(data = prep_cvec.fit_transform(df[df[\"subreddit\"]==i][\"title\"]).toarray(), columns = prep_cvec.get_feature_names()).sum()\n",
    "    feature_counts.index = [\"L\" if i == \"l\" else i for i in feature_counts.index]\n",
    "    df_filtered_word_counts = pd.DataFrame(feature_counts.sort_values(ascending = False)[:10])\n",
    "    word_pattern = word_patterns[i]\n",
    "    plt.subplot(1,2,i+1)\n",
    "    b = sns.barplot(x = df_filtered_word_counts[0], y = df_filtered_word_counts.index, orient = \"h\", palette = word_pattern)\n",
    "\n",
    "    b.set_title(names[i], fontsize = size, pad = size)\n",
    "    b.tick_params(labelsize = size)\n",
    "    b.set_xlabel(\"Frequency\", fontsize = size)\n",
    "    b.set_xlim(0,650)\n",
    "    if i == 0:\n",
    "        b.set_ylabel(\"Preprocessed Words\", fontsize = size)\n",
    "plt.suptitle(\"Top 10 most frequent words from...\", fontsize = size * 5/3, y = 1.08)\n",
    "plt.tight_layout()\n",
    "leg = plt.legend(labels=[\"Neutral\",\"Death Note\",\"One Punch\"], loc = (-.5,-.25),ncol = 3,fontsize=\"large\",fancybox=True, framealpha=1, shadow=True, borderpad=1)\n",
    "leg_lines = leg.get_lines()\n",
    "leg_lines[0].set_color(neutral);leg_lines[1].set_color(death);leg_lines[2].set_color(punch)\n",
    "for line in leg_lines:\n",
    "    line.set_linewidth(10)"
   ]
  },
  {
   "cell_type": "markdown",
   "metadata": {},
   "source": [
    "Interestingly, the most common words from r/deathnote directly relate to the \"Death Note\" anime, while the most common words from r/OnePunchMan are more general to shows recently still in production, \"spoiler\" and \"no (spoiler)\".  \n",
    "\n",
    "**This suggests our models will likely associate neutral words like \"spoilers\" and \"no\" directly to the One Punch Man reddit.**"
   ]
  },
  {
   "cell_type": "markdown",
   "metadata": {},
   "source": [
    "### Visualizing word frequency by subreddit"
   ]
  },
  {
   "cell_type": "code",
   "execution_count": 60,
   "metadata": {},
   "outputs": [],
   "source": [
    "# Plotting prep cell\n",
    "import matplotlib\n",
    "from matplotlib.lines import Line2D\n",
    "\n",
    "feature_count_cutoff = 2\n",
    "feature_counts = pd.DataFrame(data = prep_cvec.fit_transform(df[\"title\"]).toarray(), columns = prep_cvec.get_feature_names()).sum()\n",
    "count_index = feature_counts[feature_counts>=feature_count_cutoff].index\n",
    "plot_data = pd.DataFrame(index = count_index)\n",
    "plot_data[\"weight\"] = feature_counts[count_index]\n",
    "opm_count_data = pd.DataFrame(data = prep_cvec.fit_transform(df[df[\"subreddit\"]==1][\"title\"]).toarray(), columns = prep_cvec.get_feature_names()).sum()\n",
    "opm_count_data = opm_count_data[count_index].fillna(0)\n",
    "plot_data[\"from_opm\"] = np.log(opm_count_data[count_index] + 1)\n",
    "dn_count_data = pd.DataFrame(data = prep_cvec.fit_transform(df[df[\"subreddit\"]==0][\"title\"]).toarray(), columns = prep_cvec.get_feature_names()).sum()\n",
    "dn_count_data = dn_count_data[count_index].fillna(0)\n",
    "plot_data[\"from_dn\"] = np.log(dn_count_data + 1)\n",
    "diff = plot_data[\"from_opm\"] - plot_data[\"from_dn\"]\n",
    "plot_data[\"hue\"] = diff\n",
    "count_max = plot_data[\"weight\"].max()\n",
    "count_min = plot_data[\"weight\"].min()\n",
    "cMap = matplotlib.cm.get_cmap(\"PRGn\")\n",
    "legend_elements = [\n",
    "    Line2D([0], [0], marker='o', color=\"w\", markerfacecolor=\"g\", label='100', markersize=75 * .13), # I'm actually just making these scales up such that they look like they match!\n",
    "    Line2D([0], [0], marker='o', color=\"w\", markerfacecolor=\"g\", label='200', markersize=125 * .13),\n",
    "    Line2D([0], [0], marker='o', color=\"w\", markerfacecolor=\"g\", label='500', markersize=200 * .13)\n",
    "]\n",
    "offset = 0.15\n",
    "top_words = list(set(list(opm_count_data.sort_values(ascending=False)[:4].index) + list(dn_count_data.sort_values(ascending=False)[:5].index)))"
   ]
  },
  {
   "cell_type": "code",
   "execution_count": 61,
   "metadata": {},
   "outputs": [
    {
     "data": {
      "image/png": "[encoded data removed]",
      "text/plain": [
       "<Figure size 691.2x576 with 2 Axes>"
      ]
     },
     "metadata": {
      "needs_background": "light"
     },
     "output_type": "display_data"
    }
   ],
   "source": [
    "# Plotting cell\n",
    "g = sns.relplot(x=\"from_opm\", y=\"from_dn\", size=\"weight\",\n",
    "            sizes=(count_min, count_max), alpha=1, palette=\"PRGn\", hue=\"hue\", \n",
    "            hue_norm= (plot_data[\"hue\"].min(),plot_data[\"hue\"].max()),\n",
    "            height=8, aspect=1.2, data=plot_data, legend = False)\n",
    "g.despine(right=True)\n",
    "plt.legend(title = \"Total Word Frequency\",handles = legend_elements, loc=(.75,.15), \n",
    "           facecolor = None,edgecolor = \"k\", frameon = True,borderpad = 1,labelspacing = 1,fontsize = size * 2/3)\n",
    "cm = plt.pcolor([[-1,1],[-1,1]], cmap=cMap, visible = False)\n",
    "cbar = plt.colorbar(cm, orientation='vertical', ticks=[-1, 0, 1], pad=.1)\n",
    "cbar.ax.tick_params(bottom=False, top=False, left=False, right=False)\n",
    "cbar.ax.set_yticklabels(['r/deathnote', 'neutral', 'r/OnePunchMan'], fontsize = size)\n",
    "cbar.set_label('Subreddit proportion', fontsize = size, labelpad = -size*2)\n",
    "plt.title(\"Word Frequency: r/OnePunchMan vs. r/deathnote\", fontsize = size * 4/3, pad = size)\n",
    "plt.xlabel(\"r/OnePunchMan\\nlog(Frequency)\", fontsize = size)\n",
    "plt.ylabel(\"r/deathnote\\nlog(Frequency)\", fontsize = size)\n",
    "plt.tick_params(labelsize = size * 4/5)\n",
    "for word in top_words:\n",
    "    try:\n",
    "        x = plot_data[\"from_opm\"][word]\n",
    "    except:\n",
    "        x = 0\n",
    "    try:\n",
    "        y = plot_data[\"from_dn\"][word]\n",
    "    except:\n",
    "        y = 0\n",
    "    if word == \"saitama\": # custom word placement\n",
    "        x += .05\n",
    "        y -= .15\n",
    "    elif word == \"garou\": # custom word placement\n",
    "        x -= .15\n",
    "    elif word == \"l\": # custom word placement\n",
    "        word = \"L\"\n",
    "    plt.text(x + offset, y + offset, word, horizontalalignment='left', size=14, color='black')\n",
    "plt.tight_layout()"
   ]
  },
  {
   "cell_type": "markdown",
   "metadata": {},
   "source": [
    "The above graph shows the frequency of words of r/OnePunchMan vs. r/deathnote. The color of each point denotes the relative proportion of a given subreddit. The customized list of stop words were created using words with the highest frequency, but showing little distinction between the subreddits.\n",
    "\n",
    "__The data clearly shows the frequency of some words are distinct to each subreddit.__ Therefore, we are confident an effective model can be created to distinguish between the subreddits and address the problem."
   ]
  },
  {
   "cell_type": "markdown",
   "metadata": {},
   "source": [
    "## Model Preparation\n",
    "\n",
    "Before we begin modeling, we created a workflow and helper functions to streamline and standardize the process of fitting, assessing, and ultimately selecting the best model for production."
   ]
  },
  {
   "cell_type": "markdown",
   "metadata": {},
   "source": [
    "### Model Workflow:\n",
    "In order to streamline the process of discovering an optimum model, the following worklow was used:\n",
    "\n",
    "1. Establish a baseline for model accuracy\n",
    "2. For every model:\n",
    "    1. Create pipeline using:\n",
    "        - 1 x Transformer (CountVectorizer, TfidfVectorizer*)  \n",
    "        - 1 x Model (LogisticRegression, KNN, etc.)\n",
    "    2. AdvancedGridSearch:  \n",
    "        - Train/Test split\n",
    "        - GridSearchCV to discover “best” parameters for model\n",
    "        - Use ROC AUC to discover optimum classification threshold\n",
    "        - Score model accuracy using threshold to predict on testing dataset\n",
    "3. Assess all models using accuracy on testing dataset\n",
    "    1. Only models well above the baseline will be considers\n",
    "    2. The model with the highest accuracy is chosen for production"
   ]
  },
  {
   "cell_type": "code",
   "execution_count": 62,
   "metadata": {},
   "outputs": [],
   "source": [
    "X = df[\"title\"]\n",
    "y = df[\"subreddit\"]"
   ]
  },
  {
   "cell_type": "code",
   "execution_count": 93,
   "metadata": {},
   "outputs": [],
   "source": [
    "# Take from: https://stackoverflow.com/questions/28719067/roc-curve-and-cut-off-point-python\n",
    "def Find_Optimal_Cutoff(target, predicted):\n",
    "    \"\"\" Find the optimal probability cutoff point for a classification model related to event rate\n",
    "    Parameters\n",
    "    ----------\n",
    "    target : Matrix with dependent or target data, where rows are observations\n",
    "\n",
    "    predicted : Matrix with predicted data, where rows are observations\n",
    "\n",
    "    Returns\n",
    "    -------     \n",
    "    list type, with optimal cutoff value\n",
    "\n",
    "    \"\"\"\n",
    "    fpr, tpr, threshold = roc_curve(target, predicted)\n",
    "    i = np.arange(len(tpr)) \n",
    "    roc = pd.DataFrame({'tf' : pd.Series(tpr - (1 - fpr), index=i), 'threshold' : pd.Series(threshold, index=i)})\n",
    "    roc_t = roc.iloc[(roc.tf - 0).abs().argsort()[:1]]\n",
    "    return roc_t['threshold']"
   ]
  },
  {
   "cell_type": "markdown",
   "metadata": {},
   "source": [
    "### `AdvancedGridSearch`\n",
    "We created the `AdvancedGridSearch` function as a way to simplify the modeling process and abstract many of the nuances of optimizing any given classification model.  \n",
    "\n",
    "One key feature of `AdvancedGridSearch` is the addition of the `.predict_with_thresh()` method, which uses the ROC AUC to determine the optimum classification threshold and uses that threshold to better predict values. The `.predict_with_thresh()` method is added to the `GridSearchCV` object, which is returned by the function. "
   ]
  },
  {
   "cell_type": "code",
   "execution_count": 166,
   "metadata": {},
   "outputs": [],
   "source": [
    "def AdvancedGridSearch(estimator, params, X, y, random_state = RANDOM_STATE, verbose = False):\n",
    "    '''\n",
    "    Conducts a grid search of the given estimator with the given parameters using the\n",
    "    given data_list. \n",
    "    \n",
    "    Effectively this function serves as a wrapper for GridSearchCV with\n",
    "    some additional functionality, optimizing for accuracy by defualt.\n",
    "    \n",
    "    After fitting, the optimum classifier threshold is determined using the ROC AUC.\n",
    "    The GridSearchCV object is returned with a new .predict_with_thresh() method, which\n",
    "    can be used to predict values using the optimum classifier threshold (instead of the\n",
    "    default .5).\n",
    "    \n",
    "    params:\n",
    "        estimator (BaseEstimator) : sklearn estimator\n",
    "        params (dict)             : GridSearchCV param_grid\n",
    "        X (Series)                : Pandas Series feature dataset\n",
    "        y (Series)                : Pandas Series target dataset\n",
    "        random_state              : random seed\n",
    "        verbose (bool)            : flag for verbosity (default: False)\n",
    "    \n",
    "    return:\n",
    "        GridSearchCV\n",
    "    '''\n",
    "    X_train, X_test, y_train, y_test = train_test_split(X, y, random_state = random_state, stratify = y)\n",
    "    \n",
    "    # finding optimal params and model\n",
    "    gs = GridSearchCV(estimator, param_grid = params, cv = 3)\n",
    "    gs.fit(X_train, y_train)\n",
    "    \n",
    "    # finding optimal classifier threshold\n",
    "    probs = [i[1] for i in gs.predict_proba(X)]\n",
    "    optimum_thresh = Find_Optimal_Cutoff(y, probs)\n",
    "    \n",
    "    # adding `optimum_thresh_` as relevant attribute for use\n",
    "    setattr(gs, 'optimum_thresh_', optimum_thresh)\n",
    "\n",
    "    # adding new method to predicting method using optimal threshold\n",
    "    def predict_with_thresh(self, df):\n",
    "        return pd.Series([int(i[1] >= self.optimum_thresh_) for i in self.predict_proba(df)])\n",
    "    gs.predict_with_thresh = MethodType(predict_with_thresh, gs)\n",
    "    \n",
    "    # using custom scoring function for cross validation (need to circumvent use of base estimator)\n",
    "    def cross_val_scorer(_, X, y):\n",
    "        preds = gs.predict_with_thresh(X)\n",
    "        return accuracy_score(preds, y)\n",
    "\n",
    "    if verbose:\n",
    "        # train score\n",
    "        train_preds = gs.predict_with_thresh(X_train)\n",
    "        print(\"Train Accuracy:\", accuracy_score(train_preds, y_train))\n",
    "    \n",
    "        # test score\n",
    "        test_preds = gs.predict_with_thresh(X_test)\n",
    "        print(\"Test Accuracy:\", accuracy_score(test_preds, y_test))\n",
    "        \n",
    "        # cross val score\n",
    "        print(\"Cross Val Accuracy:\", cross_val_score(estimator, X, y, scoring = cross_val_scorer, cv = 5).mean())\n",
    "        print(\"Optimum classification threshold: {}\".format(optimum_thresh.to_string(index = False)))\n",
    "    \n",
    "    # returns model that handles predictions using optimum threshold \n",
    "    return gs"
   ]
  },
  {
   "cell_type": "markdown",
   "metadata": {},
   "source": [
    "## Modeling"
   ]
  },
  {
   "cell_type": "markdown",
   "metadata": {},
   "source": [
    "### Dummy (baseline) Model"
   ]
  },
  {
   "cell_type": "code",
   "execution_count": 167,
   "metadata": {},
   "outputs": [
    {
     "name": "stdout",
     "output_type": "stream",
     "text": [
      "Train Accuracy: 0.6132315521628499\n",
      "Test Accuracy: 0.6132315521628499\n",
      "Cross Val Accuracy: 0.6132322313214033\n",
      "Optimum classification threshold:  1.0\n"
     ]
    }
   ],
   "source": [
    "dummy = AdvancedGridSearch(DummyClassifier(\"most_frequent\"), {}, X, y, verbose = True)"
   ]
  },
  {
   "cell_type": "markdown",
   "metadata": {},
   "source": [
    "Given the majority of the data is from the Death Note subreddit, the baseline model is simply to always assume this outcome - yeilding a ~61% accuracy.  \n",
    "\n",
    "We can conclude any model that can perform above 61% accuracy is a better model by comparison."
   ]
  },
  {
   "cell_type": "markdown",
   "metadata": {},
   "source": [
    "### cvec + LogReg"
   ]
  },
  {
   "cell_type": "code",
   "execution_count": 168,
   "metadata": {},
   "outputs": [
    {
     "name": "stdout",
     "output_type": "stream",
     "text": [
      "Train Accuracy: 0.9779474130619169\n",
      "Test Accuracy: 0.9669211195928753\n",
      "Cross Val Accuracy: 0.9751895662723689\n",
      "Optimum classification threshold:  0.474615\n"
     ]
    }
   ],
   "source": [
    "cvec_logReg_pipe_list = [\n",
    "    (\"cvec\", cvec),\n",
    "    (\"logReg\", LogisticRegression())\n",
    "]\n",
    "cvec_logReg_params = {\n",
    "    'cvec__max_features': [800],\n",
    "    'cvec__min_df': [5],\n",
    "    'cvec__max_df': [.8],\n",
    "    'cvec__ngram_range': [(1,2)]\n",
    "}\n",
    "\n",
    "model_cvec_logReg = AdvancedGridSearch(Pipeline(cvec_logReg_pipe_list), cvec_logReg_params, X, y, verbose = True)"
   ]
  },
  {
   "cell_type": "markdown",
   "metadata": {},
   "source": [
    "The CountVectorizer (CVEC) and Logistic Regression model works well to distinguish between the subreddits.  \n",
    "__This first model is already significantly more accurate than the baseline, making is a potential candidate for production.__\n",
    "\n",
    "As we continue to explore other models, having 2 transformation components can become cumbersome, since we'll have to consider each model twice. After some experimenting, we'll want to make a final decision on which tokenizer to settle on."
   ]
  },
  {
   "cell_type": "markdown",
   "metadata": {},
   "source": [
    "### tfidf + LogReg"
   ]
  },
  {
   "cell_type": "code",
   "execution_count": 169,
   "metadata": {},
   "outputs": [
    {
     "name": "stdout",
     "output_type": "stream",
     "text": [
      "Train Accuracy: 0.9728583545377438\n",
      "Test Accuracy: 0.9592875318066157\n",
      "Cross Val Accuracy: 0.9694631483166514\n",
      "Optimum classification threshold:  0.415592\n"
     ]
    }
   ],
   "source": [
    "tfidf_logReg_pipe_list = [\n",
    "    (\"tfidf\", tfidf),\n",
    "    (\"logReg\", LogisticRegression())\n",
    "]\n",
    "tfidf_logReg_params = {\n",
    "    'tfidf__max_features': [1300],\n",
    "    'tfidf__min_df': [12],\n",
    "    'tfidf__max_df': [.8],\n",
    "    'tfidf__ngram_range': [(1,1)]\n",
    "}\n",
    "\n",
    "model_tfidf_logReg = AdvancedGridSearch(Pipeline(tfidf_logReg_pipe_list), tfidf_logReg_params, X, y, verbose = True)"
   ]
  },
  {
   "cell_type": "markdown",
   "metadata": {},
   "source": [
    "We see a comparable performance for the TfidfVectorizer and Logistic Regression.\n",
    "However, the optimal hyperparameters suggest a less elegant model. We see:\n",
    "1. The number of maximum features is higher, suggesting a higher dependence on sparce features\n",
    "2. The 1-gram tokens used in this model, as opposed to the 1 & 2-gram used in the previous model, suggests this model will not be able to pick up more complex and informative sentiments.\n",
    "\n",
    "The Logistic Regression classifier has shown itself to perform well. Perhaps using a K-nearest Neighbors (KNN) model will be more accurate."
   ]
  },
  {
   "cell_type": "markdown",
   "metadata": {},
   "source": [
    "### cvec + knn"
   ]
  },
  {
   "cell_type": "code",
   "execution_count": 170,
   "metadata": {},
   "outputs": [
    {
     "name": "stdout",
     "output_type": "stream",
     "text": [
      "Train Accuracy: 0.9855810008481765\n",
      "Test Accuracy: 0.9567430025445293\n",
      "Cross Val Accuracy: 0.9783722576079263\n",
      "Optimum classification threshold:  0.666667\n"
     ]
    }
   ],
   "source": [
    "cvec_knn_pipe_list = [\n",
    "    (\"cvec\", cvec),\n",
    "    (\"knn\", KNeighborsClassifier())\n",
    "]\n",
    "cvec_knn_params = {\n",
    "    'cvec__max_features': [1500],\n",
    "    'cvec__min_df': [12],\n",
    "    'cvec__max_df': [.8],\n",
    "    'cvec__ngram_range': [(1,1)],\n",
    "    'knn__n_neighbors' : [6],\n",
    "    'knn__weights' : [\"distance\"],\n",
    "    'knn__p': [1]\n",
    "}\n",
    "model_cvec_knn = AdvancedGridSearch(Pipeline(cvec_knn_pipe_list), cvec_knn_params, X, y, verbose = True)"
   ]
  },
  {
   "cell_type": "markdown",
   "metadata": {},
   "source": [
    "The CVEC and KNN model has a weaker performance compared to the Logistic Regression. Additionally, the optimized parameters suggest this model is simple and also less likely to pick up on more complex word interactions."
   ]
  },
  {
   "cell_type": "markdown",
   "metadata": {},
   "source": [
    "### tfidf + knn"
   ]
  },
  {
   "cell_type": "code",
   "execution_count": 171,
   "metadata": {},
   "outputs": [
    {
     "name": "stdout",
     "output_type": "stream",
     "text": [
      "Train Accuracy: 0.9754028837998303\n",
      "Test Accuracy: 0.9541984732824428\n",
      "Cross Val Accuracy: 0.9700920028308563\n",
      "Optimum classification threshold:  0.2\n"
     ]
    }
   ],
   "source": [
    "tfidf_knn_pipe_list = [\n",
    "    (\"tfidf\",tfidf),\n",
    "    (\"knn\", KNeighborsClassifier())\n",
    "]\n",
    "tfidf_knn_params = {\n",
    "    'tfidf__max_features': [1000],\n",
    "    'tfidf__min_df': [20],\n",
    "    'tfidf__max_df': [.8],\n",
    "    'tfidf__ngram_range': [(1,2)],\n",
    "    'knn__n_neighbors' : [5],\n",
    "    'knn__weights' : [\"distance\"],\n",
    "    'knn__p': [1],\n",
    "}\n",
    "model_tfidf_knn = AdvancedGridSearch(Pipeline(tfidf_knn_pipe_list), tfidf_knn_params, X, y, verbose = True)"
   ]
  },
  {
   "cell_type": "markdown",
   "metadata": {},
   "source": [
    "Interestingly, the TfidfVectorizer and KNN was less accurate then the CVEC + KNN. The optimized hyperparameters finally show a more elegant model, but is ultimately unsuccessful compared to earlier models. \n",
    "\n",
    "_NOTE: After some other trails exploring models, it became clear the TFIDF transformer was not performing as well as CVEC. From this point on, I'll only use the CVEC transformer._"
   ]
  },
  {
   "cell_type": "markdown",
   "metadata": {},
   "source": [
    "### cvec + naive bayes (multinomial)"
   ]
  },
  {
   "cell_type": "code",
   "execution_count": 172,
   "metadata": {},
   "outputs": [
    {
     "name": "stdout",
     "output_type": "stream",
     "text": [
      "Train Accuracy: 0.9686174724342663\n",
      "Test Accuracy: 0.9669211195928753\n",
      "Cross Val Accuracy: 0.9681831968456173\n",
      "Optimum classification threshold:  0.658594\n"
     ]
    }
   ],
   "source": [
    "cvec_multNB_pipe_list = [\n",
    "    (\"cvec\", cvec),\n",
    "    (\"mult\", MultinomialNB())\n",
    "]\n",
    "cvec_multNB_params = {\n",
    "    'cvec__max_features': [250],\n",
    "    'cvec__min_df': [7],\n",
    "    'cvec__max_df': [.8],\n",
    "    'cvec__ngram_range': [(1,3)]\n",
    "}\n",
    "\n",
    "model_cvec_multNB = AdvancedGridSearch(Pipeline(cvec_multNB_pipe_list), cvec_multNB_params, X, y, verbose = True)"
   ]
  },
  {
   "cell_type": "markdown",
   "metadata": {},
   "source": [
    "The CVEC + Multinomial Naive Bayes (MultNB) model is the most accurate so far. Given it's restrictive maximum of 250 features, we also see the first model using tri-grams. Together, these parameters allow this model to be more sensative to sentiment."
   ]
  },
  {
   "cell_type": "markdown",
   "metadata": {},
   "source": [
    "### cvec + naive bayes (guassian)\n",
    "We encountered an issue with the Guassian model, which was not accepting the sparse matrix from the tokenizer.  \n",
    "We created a \"middle-man\" transformer, DenseTransformer, to convert the tokenizer's output to a dense matrix and pass that to the Guassian model.\n",
    "\n",
    "[source](https://stackoverflow.com/questions/28384680/scikit-learns-pipeline-a-sparse-matrix-was-passed-but-dense-data-is-required)"
   ]
  },
  {
   "cell_type": "code",
   "execution_count": 173,
   "metadata": {},
   "outputs": [],
   "source": [
    "class DenseTransformer(TransformerMixin):\n",
    "    def fit(self, X, y=None, **fit_params):\n",
    "        return self\n",
    "\n",
    "    def transform(self, X, y=None, **fit_params):\n",
    "        return X.toarray()"
   ]
  },
  {
   "cell_type": "code",
   "execution_count": 174,
   "metadata": {},
   "outputs": [
    {
     "name": "stdout",
     "output_type": "stream",
     "text": [
      "Train Accuracy: 0.9414758269720102\n",
      "Test Accuracy: 0.926208651399491\n",
      "Cross Val Accuracy: 0.9376544333232232\n",
      "Optimum classification threshold:  9.611214e-26\n"
     ]
    }
   ],
   "source": [
    "cvec_guasNB_pipe_list = [\n",
    "    (\"cvec\", cvec),\n",
    "    (\"_\",DenseTransformer()),\n",
    "    (\"guas\", GaussianNB())\n",
    "]\n",
    "cvec_guasNB_params = {\n",
    "    'cvec__max_features': [300],\n",
    "    'cvec__min_df': [12],\n",
    "    'cvec__max_df': [.8],\n",
    "    'cvec__ngram_range': [(1,3)]\n",
    "}\n",
    "\n",
    "model_cvec_guasNB = AdvancedGridSearch(Pipeline(cvec_guasNB_pipe_list), cvec_guasNB_params, X, y, verbose = True)"
   ]
  },
  {
   "cell_type": "markdown",
   "metadata": {},
   "source": [
    "Despite having a similar methodology and more sensative parameters to the MultNB, the CVEC + Guassian Naive Bayes model performs the worst of all models so far.\n",
    "\n",
    "It's possible the use of decision trees could improve the accuracy seen in the CVEC + MultNB model, the most accurate model so far."
   ]
  },
  {
   "cell_type": "markdown",
   "metadata": {},
   "source": [
    "### cvec + DecisionTree"
   ]
  },
  {
   "cell_type": "code",
   "execution_count": 175,
   "metadata": {},
   "outputs": [
    {
     "name": "stdout",
     "output_type": "stream",
     "text": [
      "Train Accuracy: 0.9787955894826124\n",
      "Test Accuracy: 0.9567430025445293\n",
      "Cross Val Accuracy: 0.9732726721261754\n",
      "Optimum classification threshold:  0.5\n"
     ]
    }
   ],
   "source": [
    "cvec_tree_pipe_list = [\n",
    "    (\"cvec\",cvec),\n",
    "    (\"tree\", DecisionTreeClassifier())\n",
    "]\n",
    "cvec_tree_params = {\n",
    "    'cvec__max_features': [1000],\n",
    "    'cvec__min_df': [15],\n",
    "    'cvec__max_df': [.8],\n",
    "    'cvec__ngram_range': [(1,2)],\n",
    "    \"tree__max_depth\":[20],\n",
    "    \"tree__min_samples_leaf\":[1],\n",
    "    \"tree__min_samples_split\":[3],\n",
    "}\n",
    "\n",
    "model_cvec_tree = AdvancedGridSearch(Pipeline(cvec_tree_pipe_list), cvec_tree_params, X, y, verbose = True)"
   ]
  },
  {
   "cell_type": "markdown",
   "metadata": {},
   "source": [
    "The CVEC + Decision Tree model does perform well and appears somewhat sensative to sentiment, but falls short of the best model so far.\n",
    "\n",
    "Using a bagging model may improve on the Decision Tree accuracy, though there is little benefit as there is only so much bias/variance tradeoff possible."
   ]
  },
  {
   "cell_type": "markdown",
   "metadata": {},
   "source": [
    "### cvec + Bagging/DecisionTree"
   ]
  },
  {
   "cell_type": "code",
   "execution_count": 176,
   "metadata": {},
   "outputs": [
    {
     "name": "stdout",
     "output_type": "stream",
     "text": [
      "Train Accuracy: 0.9830364715860899\n",
      "Test Accuracy: 0.9592875318066157\n",
      "Cross Val Accuracy: 0.9770963502173693\n",
      "Optimum classification threshold:  0.469239\n"
     ]
    }
   ],
   "source": [
    "cvec_bag_tree_pipe_list = [\n",
    "    (\"cvec\",cvec),\n",
    "    (\"bag\", BaggingClassifier(DecisionTreeClassifier(), n_jobs = -1))\n",
    "]\n",
    "cvec_bag_tree_params = {\n",
    "    'cvec__max_features': [100],\n",
    "    'cvec__min_df': [5],\n",
    "    'cvec__max_df': [.8],\n",
    "    'cvec__ngram_range': [(1,3)],\n",
    "    \"bag__n_estimators\" : [30],\n",
    "    \"bag__base_estimator__max_depth\":[20],\n",
    "    \"bag__base_estimator__min_samples_leaf\":[1],\n",
    "    \"bag__base_estimator__min_samples_split\":[3],\n",
    "}\n",
    "\n",
    "model_cvec_bag_tree = AdvancedGridSearch(Pipeline(cvec_bag_tree_pipe_list), cvec_bag_tree_params, X, y, verbose = True)"
   ]
  },
  {
   "cell_type": "markdown",
   "metadata": {},
   "source": [
    "Interstingly, the CVEC + Bagging with Decision Tree model did not perform better than the basic Decision Tree. However, it should be noted this model is much more sensative to sentiment, using tri-grams and the most restrictive maximun number of features yet.\n",
    "\n",
    "Perhaps using a Random Forest model can extract more accuracy."
   ]
  },
  {
   "cell_type": "markdown",
   "metadata": {},
   "source": [
    "### cvec + RandomForest"
   ]
  },
  {
   "cell_type": "code",
   "execution_count": 177,
   "metadata": {},
   "outputs": [
    {
     "name": "stdout",
     "output_type": "stream",
     "text": [
      "Train Accuracy: 0.9720101781170484\n",
      "Test Accuracy: 0.9643765903307888\n",
      "Cross Val Accuracy: 0.9700960469113336\n",
      "Optimum classification threshold:  0.516461\n"
     ]
    }
   ],
   "source": [
    "cvec_rf_pipe_list = [\n",
    "    (\"cvec\",cvec),\n",
    "    (\"rf\", RandomForestClassifier())\n",
    "]\n",
    "\n",
    "cvec_rf_params = {\n",
    "    'cvec__max_features': [100],\n",
    "    'cvec__min_df': [10],\n",
    "    'cvec__max_df': [.8],\n",
    "    'cvec__ngram_range': [(1,2)],\n",
    "    \"rf__n_estimators\" : [75],\n",
    "    \"rf__max_depth\" : [8],\n",
    "    \"rf__min_samples_leaf\" : [1],\n",
    "    \"rf__min_samples_split\" : [3]\n",
    "}\n",
    "\n",
    "model_cvec_rf = AdvancedGridSearch(Pipeline(cvec_rf_pipe_list), cvec_rf_params, X, y, verbose = True)"
   ]
  },
  {
   "cell_type": "markdown",
   "metadata": {},
   "source": [
    "We do ultimately see and improvement using CVEC + Random Forst, however the increase is not significant enough to overthrow the CVEC + MultNB model. Interestingly, we see a restrictive 100 maximum features and bi-grams as optimal hyperparameters.\n",
    "\n",
    "Our last attempts to improve accuracy rely in Boosting models, which tend to perform well."
   ]
  },
  {
   "cell_type": "markdown",
   "metadata": {},
   "source": [
    "### cvec + GradientBoostingClassifier"
   ]
  },
  {
   "cell_type": "code",
   "execution_count": 178,
   "metadata": {},
   "outputs": [
    {
     "name": "stdout",
     "output_type": "stream",
     "text": [
      "Train Accuracy: 0.9821882951653944\n",
      "Test Accuracy: 0.9592875318066157\n",
      "Cross Val Accuracy: 0.9764594075422102\n",
      "Optimum classification threshold:  0.568166\n"
     ]
    }
   ],
   "source": [
    "cvec_gb_pipe_list = [\n",
    "    (\"cvec\",cvec),\n",
    "    (\"gb\", GradientBoostingClassifier())\n",
    "]\n",
    "\n",
    "cvec_gb_params = {\n",
    "    'cvec__max_features': [100],\n",
    "    'cvec__min_df': [4],\n",
    "    'cvec__max_df': [.8],\n",
    "    'cvec__ngram_range': [(1,3)],\n",
    "    \"gb__n_estimators\": [100],\n",
    "    \"gb__learning_rate\":[.1]\n",
    "}\n",
    "\n",
    "model_cvec_gb = AdvancedGridSearch(Pipeline(cvec_gb_pipe_list), cvec_gb_params, X, y, verbose = True)"
   ]
  },
  {
   "cell_type": "markdown",
   "metadata": {},
   "source": [
    "The CVEC + Gradient Boosting model perhaps very well. The sensativity to sentiment is also high."
   ]
  },
  {
   "cell_type": "markdown",
   "metadata": {},
   "source": [
    "### cvec + Adaboost"
   ]
  },
  {
   "cell_type": "code",
   "execution_count": 179,
   "metadata": {},
   "outputs": [
    {
     "name": "stdout",
     "output_type": "stream",
     "text": [
      "Train Accuracy: 0.9779474130619169\n",
      "Test Accuracy: 0.9643765903307888\n",
      "Cross Val Accuracy: 0.9745506015569709\n",
      "Optimum classification threshold:  0.505612\n"
     ]
    }
   ],
   "source": [
    "cvec_ada_pipe_list = [\n",
    "    (\"cvec\",cvec),\n",
    "    (\"ada\", AdaBoostClassifier())\n",
    "]\n",
    "\n",
    "cvec_ada_params = {\n",
    "    'cvec__max_features': [100],\n",
    "    'cvec__min_df': [3],\n",
    "    'cvec__max_df': [.8],\n",
    "    'cvec__ngram_range': [(1,3)],\n",
    "    \"ada__n_estimators\": [150],\n",
    "    \"ada__learning_rate\":[.1]\n",
    "}\n",
    "\n",
    "model_cvec_ada = AdvancedGridSearch(Pipeline(cvec_ada_pipe_list), cvec_ada_params, X, y, verbose = True)"
   ]
  },
  {
   "cell_type": "markdown",
   "metadata": {},
   "source": [
    "CVEC + AdaBoost model performs even better than the Gradient Boost with similar parameters.\n",
    "\n",
    "At this point, we want to consider taking the best models and allowing them to vote in an ensemble. This tactic may be able to allow use to make more informed predictions and increase accuracy. Typically ensemble models perform the best."
   ]
  },
  {
   "cell_type": "markdown",
   "metadata": {},
   "source": [
    "### Ensemble w/VoterClassifier with best models"
   ]
  },
  {
   "cell_type": "code",
   "execution_count": 180,
   "metadata": {},
   "outputs": [],
   "source": [
    "all_models = [\n",
    "    model_cvec_ada,\n",
    "    model_cvec_bag_tree,\n",
    "    model_cvec_gb,\n",
    "#     model_cvec_guasNB, # low performance\n",
    "    model_cvec_knn, \n",
    "    model_cvec_logReg,\n",
    "    model_cvec_multNB,\n",
    "    model_cvec_tree,\n",
    "    model_tfidf_knn,\n",
    "    model_tfidf_logReg,\n",
    "#     model_cvec_rf     # low performance\n",
    "]"
   ]
  },
  {
   "cell_type": "code",
   "execution_count": 181,
   "metadata": {},
   "outputs": [
    {
     "name": "stdout",
     "output_type": "stream",
     "text": [
      "Train Accuracy: 0.9847328244274809\n",
      "Test Accuracy: 0.9669211195928753\n",
      "Cross Val Accuracy: 0.980279041552927\n",
      "Optimum classification threshold:  0.561124\n"
     ]
    }
   ],
   "source": [
    "voter = VotingClassifier([(\"MODEL_{}\".format(i),model) for i,model in enumerate(all_models)], voting = \"soft\")\n",
    "model_voter = AdvancedGridSearch(voter, {}, X, y, verbose = True)"
   ]
  },
  {
   "cell_type": "markdown",
   "metadata": {},
   "source": [
    "The ensemble Voter model performed well, but was still unable to surpass the CVEC + MultNB model.\n",
    "\n",
    "_NOTE: since we were using the `predict_proba()` method to optimize using the ROC AUC I had to use the `voting = \"soft\"` parameter, which slightly reduced the method's accuracy_"
   ]
  },
  {
   "cell_type": "markdown",
   "metadata": {},
   "source": [
    "## Model Selection\n",
    "We'll primarily look for high test accuracy when selecting our best model.  \n",
    "We also want to consider interpretability as we're interested in seeing how important a word or phrase is for denoting which subreddit. "
   ]
  },
  {
   "cell_type": "code",
   "execution_count": 182,
   "metadata": {},
   "outputs": [],
   "source": [
    "# gathering all models to compare\n",
    "ALL_MODELS = [\n",
    "    (model_cvec_ada,\"cvec_ada\"),\n",
    "    (model_cvec_bag_tree,\"cvec_bag_tree\"),\n",
    "    (model_cvec_gb,\"cvec_gb\"),\n",
    "    (model_cvec_guasNB,\"cvec_guasNB\"),\n",
    "    (model_cvec_knn,\"cvec_knn\"), \n",
    "    (model_cvec_logReg,\"cvec_logReg\"),\n",
    "    (model_cvec_multNB,\"cvec_multNB\"),\n",
    "    (model_cvec_tree,\"cvec_tree\"),\n",
    "    (model_tfidf_knn,\"tfidf_knn\"),\n",
    "    (model_tfidf_logReg,\"tfidf_logReg\"),\n",
    "    (model_cvec_rf,\"cvec_rf\"),\n",
    "    (model_voter,\"voter\")\n",
    "]"
   ]
  },
  {
   "cell_type": "code",
   "execution_count": 183,
   "metadata": {},
   "outputs": [],
   "source": [
    "# function takes a model and uses `predict_with_thresh` to create dictionary of model performance\n",
    "def create_model_eval_row(model, X, y, name):\n",
    "    X_train, X_test, y_train, y_test = train_test_split(X, y, random_state = RANDOM_STATE, stratify = y)\n",
    "    model.fit(X_train, y_train)\n",
    "    train_preds = model.predict_with_thresh(X_train)\n",
    "    train_acc = accuracy_score(y_train, train_preds)\n",
    "    test_preds = model.predict_with_thresh(X_test)\n",
    "    test_acc = accuracy_score(y_test, test_preds)\n",
    "    cm = confusion_matrix(y_test, test_preds)\n",
    "    FP, FN = cm[0,1], cm[1,0]\n",
    "    \n",
    "    return {\"name\" : name, \"train_acc\": train_acc, \"test_acc\": test_acc, \"acc_diff\": train_acc - test_acc, \"false_positives\" : FP, \"false_negative\" : FN}"
   ]
  },
  {
   "cell_type": "code",
   "execution_count": null,
   "metadata": {},
   "outputs": [],
   "source": [
    "# Creating dataframe of model performance for each model\n",
    "model_eval_df = pd.DataFrame([create_model_eval_row(model, X, y, name) for model, name in ALL_MODELS])"
   ]
  },
  {
   "cell_type": "code",
   "execution_count": 186,
   "metadata": {},
   "outputs": [
    {
     "data": {
      "text/html": [
       "<div>\n",
       "<style scoped>\n",
       "    .dataframe tbody tr th:only-of-type {\n",
       "        vertical-align: middle;\n",
       "    }\n",
       "\n",
       "    .dataframe tbody tr th {\n",
       "        vertical-align: top;\n",
       "    }\n",
       "\n",
       "    .dataframe thead th {\n",
       "        text-align: right;\n",
       "    }\n",
       "</style>\n",
       "<table border=\"1\" class=\"dataframe\">\n",
       "  <thead>\n",
       "    <tr style=\"text-align: right;\">\n",
       "      <th></th>\n",
       "      <th>acc_diff</th>\n",
       "      <th>false_positives</th>\n",
       "      <th>false_negative</th>\n",
       "      <th>name</th>\n",
       "      <th>train_acc</th>\n",
       "      <th>test_acc</th>\n",
       "    </tr>\n",
       "  </thead>\n",
       "  <tbody>\n",
       "    <tr>\n",
       "      <th>6</th>\n",
       "      <td>0.001696</td>\n",
       "      <td>9</td>\n",
       "      <td>4</td>\n",
       "      <td>cvec_multNB</td>\n",
       "      <td>0.968617</td>\n",
       "      <td>0.966921</td>\n",
       "    </tr>\n",
       "    <tr>\n",
       "      <th>5</th>\n",
       "      <td>0.011026</td>\n",
       "      <td>10</td>\n",
       "      <td>3</td>\n",
       "      <td>cvec_logReg</td>\n",
       "      <td>0.977947</td>\n",
       "      <td>0.966921</td>\n",
       "    </tr>\n",
       "    <tr>\n",
       "      <th>11</th>\n",
       "      <td>0.016964</td>\n",
       "      <td>9</td>\n",
       "      <td>4</td>\n",
       "      <td>voter</td>\n",
       "      <td>0.983885</td>\n",
       "      <td>0.966921</td>\n",
       "    </tr>\n",
       "    <tr>\n",
       "      <th>10</th>\n",
       "      <td>0.006785</td>\n",
       "      <td>11</td>\n",
       "      <td>3</td>\n",
       "      <td>cvec_rf</td>\n",
       "      <td>0.971162</td>\n",
       "      <td>0.964377</td>\n",
       "    </tr>\n",
       "    <tr>\n",
       "      <th>0</th>\n",
       "      <td>0.013571</td>\n",
       "      <td>9</td>\n",
       "      <td>5</td>\n",
       "      <td>cvec_ada</td>\n",
       "      <td>0.977947</td>\n",
       "      <td>0.964377</td>\n",
       "    </tr>\n",
       "    <tr>\n",
       "      <th>2</th>\n",
       "      <td>0.020356</td>\n",
       "      <td>11</td>\n",
       "      <td>4</td>\n",
       "      <td>cvec_gb</td>\n",
       "      <td>0.982188</td>\n",
       "      <td>0.961832</td>\n",
       "    </tr>\n",
       "    <tr>\n",
       "      <th>9</th>\n",
       "      <td>0.013571</td>\n",
       "      <td>11</td>\n",
       "      <td>5</td>\n",
       "      <td>tfidf_logReg</td>\n",
       "      <td>0.972858</td>\n",
       "      <td>0.959288</td>\n",
       "    </tr>\n",
       "    <tr>\n",
       "      <th>1</th>\n",
       "      <td>0.022901</td>\n",
       "      <td>10</td>\n",
       "      <td>6</td>\n",
       "      <td>cvec_bag_tree</td>\n",
       "      <td>0.982188</td>\n",
       "      <td>0.959288</td>\n",
       "    </tr>\n",
       "    <tr>\n",
       "      <th>7</th>\n",
       "      <td>0.022053</td>\n",
       "      <td>11</td>\n",
       "      <td>6</td>\n",
       "      <td>cvec_tree</td>\n",
       "      <td>0.978796</td>\n",
       "      <td>0.956743</td>\n",
       "    </tr>\n",
       "    <tr>\n",
       "      <th>4</th>\n",
       "      <td>0.028838</td>\n",
       "      <td>10</td>\n",
       "      <td>7</td>\n",
       "      <td>cvec_knn</td>\n",
       "      <td>0.985581</td>\n",
       "      <td>0.956743</td>\n",
       "    </tr>\n",
       "    <tr>\n",
       "      <th>8</th>\n",
       "      <td>0.021204</td>\n",
       "      <td>14</td>\n",
       "      <td>4</td>\n",
       "      <td>tfidf_knn</td>\n",
       "      <td>0.975403</td>\n",
       "      <td>0.954198</td>\n",
       "    </tr>\n",
       "    <tr>\n",
       "      <th>3</th>\n",
       "      <td>0.015267</td>\n",
       "      <td>23</td>\n",
       "      <td>6</td>\n",
       "      <td>cvec_guasNB</td>\n",
       "      <td>0.941476</td>\n",
       "      <td>0.926209</td>\n",
       "    </tr>\n",
       "  </tbody>\n",
       "</table>\n",
       "</div>"
      ],
      "text/plain": [
       "    acc_diff  false_positives  false_negative           name  train_acc  \\\n",
       "6   0.001696                9               4    cvec_multNB   0.968617   \n",
       "5   0.011026               10               3    cvec_logReg   0.977947   \n",
       "11  0.016964                9               4          voter   0.983885   \n",
       "10  0.006785               11               3        cvec_rf   0.971162   \n",
       "0   0.013571                9               5       cvec_ada   0.977947   \n",
       "2   0.020356               11               4        cvec_gb   0.982188   \n",
       "9   0.013571               11               5   tfidf_logReg   0.972858   \n",
       "1   0.022901               10               6  cvec_bag_tree   0.982188   \n",
       "7   0.022053               11               6      cvec_tree   0.978796   \n",
       "4   0.028838               10               7       cvec_knn   0.985581   \n",
       "8   0.021204               14               4      tfidf_knn   0.975403   \n",
       "3   0.015267               23               6    cvec_guasNB   0.941476   \n",
       "\n",
       "    test_acc  \n",
       "6   0.966921  \n",
       "5   0.966921  \n",
       "11  0.966921  \n",
       "10  0.964377  \n",
       "0   0.964377  \n",
       "2   0.961832  \n",
       "9   0.959288  \n",
       "1   0.959288  \n",
       "7   0.956743  \n",
       "4   0.956743  \n",
       "8   0.954198  \n",
       "3   0.926209  "
      ]
     },
     "execution_count": 186,
     "metadata": {},
     "output_type": "execute_result"
    }
   ],
   "source": [
    "# sorting model performance dataframe by first test score (desc) \n",
    "# then by the difference between train and test score (asc)\n",
    "model_eval_df.sort_values(by = [\"test_acc\",\"acc_diff\"], ascending = [False, True]).iloc[:,[3,4,5,0,1,2]]"
   ]
  },
  {
   "cell_type": "markdown",
   "metadata": {},
   "source": [
    "### Selecting a predictive model\n",
    "Looking at the best performing models, the __CountVectorizor with a Multinomial Naive Bayes Model performed best__ with the highest overall accuracy on the test dataset and with the lowest difference between the train and test score. With an accuracy of ~97%, this model performs significantly better than the baseline model.\n",
    "\n",
    "This model also performs better than similarly performing models. These results show the CVEC + multNB model has _low bias_, given it's high accuracy on the training dataset and _low variance_ given the small difference in accuracy between the training and test datasets.\n",
    "\n",
    "These results are also somewhat unsurprising. This class of model tends to be particularly strong at text classification. __Naive Bayes models use Bayes' Theorem__.\n",
    "\n",
    "$$\n",
    "\\begin{eqnarray*}\n",
    "\\text{Bayes' Theorem: } P(A|B) &=& \\frac{P(B|A)P(A)}{P(B)}\n",
    "\\end{eqnarray*}\n",
    "$$\n",
    "\n",
    "__One naive assumption we make when using this model is that the features are independent of one another__. However, this is a nearly impossible requirment, given the subject matter - written language is ripe with grammatic and syntactic rules! "
   ]
  },
  {
   "cell_type": "markdown",
   "metadata": {},
   "source": [
    "### Selecting an interpretable model\n",
    "\n",
    "While the Multinomial Naive Bayes Model performs well, it is difficult to interpret its model coefficients into layman terms. Thankfully, our second best performing model, __CountVectorizer with a Logistic Regression, is interpretable.__"
   ]
  },
  {
   "cell_type": "markdown",
   "metadata": {},
   "source": [
    "## Model Evaluation"
   ]
  },
  {
   "cell_type": "markdown",
   "metadata": {},
   "source": [
    "### Exploring Logistic Regression Model\n",
    "\n",
    "By delving into the coefficients from the __Logistic Regression__ we can get a better understanding of what the most important features are when predicting for which subreddit a given title belongs to."
   ]
  },
  {
   "cell_type": "code",
   "execution_count": 297,
   "metadata": {},
   "outputs": [],
   "source": [
    "# Plot prep cell\n",
    "coefs = pd.DataFrame(\n",
    "    data = model_cvec_logReg.best_estimator_.named_steps[\"logReg\"].coef_[0], \n",
    "    index = model_cvec_logReg.best_estimator_.named_steps[\"cvec\"].get_feature_names()\n",
    ").sort_values(0)\n",
    "coefs_dn = coefs[0][:20]\n",
    "coefs_opm = coefs[0][-20:].sort_values(0,ascending=False)"
   ]
  },
  {
   "cell_type": "code",
   "execution_count": 298,
   "metadata": {},
   "outputs": [
    {
     "data": {
      "image/png": "[encoded data removed]",
      "text/plain": [
       "<Figure size 720x432 with 2 Axes>"
      ]
     },
     "metadata": {
      "needs_background": "light"
     },
     "output_type": "display_data"
    }
   ],
   "source": [
    "fig, axes = plt.subplots(ncols = 2, figsize=(10,6))\n",
    "fig.suptitle(\n",
    "    \"Logistic Regression Coefficients for top 20 tokens from $\\t{r/deathnote}$ & $\\t{r/OnePunchMan}$\", \n",
    "    y = 1.05,\n",
    "    fontsize = 20\n",
    ")\n",
    "# deathnote coefficients (negative/black)\n",
    "sns.barplot(\n",
    "    ax = axes[0],\n",
    "    y = coefs_dn.index, \n",
    "    x = coefs_dn,\n",
    "    palette=\"Greys_r\"\n",
    ");\n",
    "\n",
    "# customized x axis\n",
    "axes[0].set_xlim((-4,0))\n",
    "axes[0].set_xticks([i for i in range(-4,1)])\n",
    "axes[0].set_xlabel(\"Coefficient\")\n",
    "axes[0].set_ylabel(\"$\\t{r/deathnote}$ token\")\n",
    "\n",
    "# OnePunchMan coefficients (positive/red)\n",
    "sns.barplot(\n",
    "    ax = axes[1],\n",
    "    y = coefs_opm.index, \n",
    "    x = coefs_opm,\n",
    "    palette=\"Reds_r\"\n",
    ");\n",
    "\n",
    "axes[1].set_xlabel(\"Coefficient\")\n",
    "axes[1].set_ylabel(\"$\\t{r/OnePunchMan}$ token\", rotation = -90)\n",
    "axes[1].yaxis.set_label_position('right')\n",
    "axes[1].yaxis.set_ticks_position('right') # placing labels on opposite side\n",
    "w = axes[1]\n",
    "plt.tight_layout()"
   ]
  },
  {
   "cell_type": "markdown",
   "metadata": {},
   "source": [
    "#### Content specific associations\n",
    "Interestingly, we might expect the most telling tokens to come directly from the name of the associated anime shows. However we only see this with r/deathnote - \"death note\" as well as \"death\" and \"note\" separately. We do not see this trend with r/OnePunchMan. We might expect to see \"one punch man\", \"one punch\", or the abbreviation \"opm\" as a key feature, but we don't. \n",
    "\n",
    "We do see a clear similarity in that character names are quite important distinguishing factors:  \n",
    "\n",
    "_Death Note characters:_ \n",
    "- Light or Kira (main protagonist), Ryuk, Misa, L (main protagonist), Mikami\n",
    "\n",
    "_One Punch Man characters:_ \n",
    "- Blast, Saitama (main protagonist), Garou (main antagonist for the current season), Genos\n",
    "\n",
    "For the most part, these findings are as expected - the name of the show and unique character names serve as red flags for the associated anime. "
   ]
  },
  {
   "cell_type": "markdown",
   "metadata": {},
   "source": [
    "#### Indirect associations\n",
    "There are also some of __strong secondary associations found for One Punch Man__:\n",
    "\n",
    "- \"draw\", \"paint\", and \"art\", refering to the (infamous) artistic style featured in the second season of the show.\n",
    "\n",
    "<img src=\"assets/season1vs2.jpg\" width=\"300px\">\n",
    "\n",
    "- \"amv\" is an acronym for \"anime music video\", is a fan-made music video consisting of clips from an animated show set to an audio track. While not unique to One Punch Man, the show is considerably more action packed, featuring intense fighting scenes which lends itself well to fan-made video content.\n",
    "- \"webcom\", refering to the web comic, from which the show is based. Here, we see a distinction in the original content these shows came from. One Punch Man started as a web comic, while Death Note was originally a manga.\n",
    "- \"chapter\" is similarly referring to the web comic format. \n",
    "- \"vs\", refering to the common format the show takes when pitting the main character against an assortment of enemies. For example: [Saitama vs. Genos](https://www.youtube.com/watch?v=km2OPUctni4)\n"
   ]
  },
  {
   "cell_type": "markdown",
   "metadata": {},
   "source": [
    "#### Temporal associations\n",
    "By far, the largest red flag was whether or not the word \"spoiler\" appeared in a title. By and large, a title with the word \"spoiler\" in it meant it most likely belonged to the One Punch Man subreddit. Here, we see this model heavily relies on temporal associations when predicting for r/OnePunchMan. For example, we see other temporal words associated with One Punch Man related to recency, such as: \"latest\" and \"season (2)\".\n",
    "\n",
    "The One Punch Man anime is still active, having recently completing it's 2nd season. As such, reddit users are wary of spoiling the plot for the uninitiated and are careful to include warnings in the title of the post. \n",
    "\n",
    "Meanwhile, Death Note finished it's final season years ago, and few are concerned with spoiling it's plot. For example, we see temporal words associated with r/deathnote, such as: \"end\" and \"finish\". The term \"question\" also appears to be a strong indicator, which may be an indication of a fan-base reflecting on a finished show (we explore this phenomenon more later).\n",
    "\n",
    "This component shows there are fairly strong temporal associations __directly related__ to when each anime was last active. The model's over reliance on the recency of One Punch Man episodes will likely make it less generalized to new data."
   ]
  },
  {
   "cell_type": "markdown",
   "metadata": {},
   "source": [
    "### Misc. words\n",
    "We also see some tokens that have little explaination for their importance. In particular, the r/deathnote subreddit contains a number of these odd tokens.\n",
    "\n",
    "Words such as \"just\", \"seem\", and \"better\" are highly associated with r/deathnote, but are not clearly connected with the show or its content.\n",
    "\n",
    "_These may be considered stop words, as we did not use an exhaustive stop word list._\n",
    "\n",
    "These words are likely left over artifacts from word association and will require a deeper look as to their origin."
   ]
  },
  {
   "cell_type": "markdown",
   "metadata": {},
   "source": [
    "### Exploring odd tokens highly indicative of r/deathnote"
   ]
  },
  {
   "cell_type": "code",
   "execution_count": 373,
   "metadata": {},
   "outputs": [],
   "source": [
    "# https://stackoverflow.com/questions/16816013/is-it-possible-to-print-using-different-colors-in-ipythons-notebook\n",
    "def highlight_word(string, word):\n",
    "    '''Replaces given word in string with red text'''\n",
    "    return string.replace(word, f\"\\x1b[31m{word.upper()}\\x1b[0m\")"
   ]
  },
  {
   "cell_type": "code",
   "execution_count": 385,
   "metadata": {},
   "outputs": [],
   "source": [
    "def highlight_word_of_interest(series, word, n = 10):\n",
    "    '''For each string in the given pandas Series, prints the given word with highlight (red text)'''\n",
    "    filtered_series = series[series.str.contains(word)]\n",
    "    print(highlight_word(f\"Highlighting word of interest: {word}\", word))\n",
    "    for i in range(min(n, len(filtered_series))):\n",
    "        print(f\"{i+1}. {highlight_word(filtered_series.iloc[i], word)}\")"
   ]
  },
  {
   "cell_type": "code",
   "execution_count": 386,
   "metadata": {},
   "outputs": [],
   "source": [
    "deathnote_titles = df[df[\"subreddit\"] == 0][\"title\"]"
   ]
  },
  {
   "cell_type": "code",
   "execution_count": 387,
   "metadata": {},
   "outputs": [
    {
     "name": "stdout",
     "output_type": "stream",
     "text": [
      "Highlighting word of interest: \u001b[31mJUST\u001b[0m\n",
      "1. is it \u001b[31mJUST\u001b[0m me or doe the soundtrack seem similar to other soundtracks?\n",
      "2. \u001b[31mJUST\u001b[0m finish death note\n",
      "3. whi doe goth joker bend his knee and hunch his back when he flies? wouldn't it be easier to \u001b[31mJUST\u001b[0m dangl from his wing\n",
      "4. \u001b[31mJUST\u001b[0m finish the show (spoiler)\n",
      "5. i \u001b[31mJUST\u001b[0m watch and finish death note for the first time in my life\n",
      "6. this is \u001b[31mJUST\u001b[0m to good not to be here.\n",
      "7. (spoilers) i \u001b[31mJUST\u001b[0m realiz princ light is the princ shcneizel (from code geass) of death note, (spoiler for both animes)\n",
      "8. le \u001b[31mJUST\u001b[0mic has arriv\n",
      "9. was the scene at 6:54 actual in death note? or \u001b[31mJUST\u001b[0m some veri well anim scene by a fan girl?\n",
      "10. in episod 26 ear say he had been collect data on the kira case for 3 years. whi didn't he \u001b[31mJUST\u001b[0m get the inform from l when he die shouldn't that be part of the automat message?\n"
     ]
    }
   ],
   "source": [
    "highlight_word_of_interest(deathnote_titles,\"just\")"
   ]
  },
  {
   "cell_type": "markdown",
   "metadata": {},
   "source": [
    "The word \"just\" may serve as an associated word with \"finish\" - suggesting reddit users are yet again indicating the temporal gap between the series.\n",
    "\n",
    "We do see \"spoilers\" in a number of the titles with \"just\", suggesting it may play a part in countering the strong pull \"spoiler\" has."
   ]
  },
  {
   "cell_type": "code",
   "execution_count": 388,
   "metadata": {},
   "outputs": [
    {
     "name": "stdout",
     "output_type": "stream",
     "text": [
      "Highlighting word of interest: \u001b[31mSEEM\u001b[0m\n",
      "1. is it just me or doe the soundtrack \u001b[31mSEEM\u001b[0m similar to other soundtracks?\n",
      "2. this might \u001b[31mSEEM\u001b[0m stupid but... (spoilers!!)\n",
      "3. nee death note one short \u001b[31mSEEM\u001b[0m to featur an angel\n",
      "4. can't \u001b[31mSEEM\u001b[0m to find a larg chunk of the soundtrack online?\n",
      "5. (spoiler) mani \u001b[31mSEEM\u001b[0m to like my previous render, so here anoth one inspir on the delet funer scene\n",
      "6. mhhhhm... someth a littl \u001b[31mSEEM\u001b[0m off about this pictur but i can't put my finger on it. can anyon pin point what it is? i'm ask becaus i put effort into make this look accur yet i'm not quit satisfied.\n"
     ]
    }
   ],
   "source": [
    "highlight_word_of_interest(deathnote_titles,\"seem\")"
   ]
  },
  {
   "cell_type": "markdown",
   "metadata": {},
   "source": [
    "Similarly, \"seem\" may play a role in countering the effect of \"spoilers\".\n"
   ]
  },
  {
   "cell_type": "code",
   "execution_count": 389,
   "metadata": {},
   "outputs": [
    {
     "name": "stdout",
     "output_type": "stream",
     "text": [
      "Highlighting word of interest: \u001b[31mBETTER\u001b[0m\n",
      "1. misa deserv so much \u001b[31mBETTER\u001b[0m than light\n",
      "2. how much \u001b[31mBETTER\u001b[0m is the second half in the manga?\n",
      "3. death note: anoth note. i think that bb was \u001b[31mBETTER\u001b[0m rival than light yagami\n",
      "4. is light justifi in his attempt to creat a \u001b[31mBETTER\u001b[0m world by use the death note?\n",
      "5. just rewatch the terribl netflix film and realiz that they could'v actual set some thing up \u001b[31mBETTER\u001b[0m. you guy mind take five min to check out my blog post?\n",
      "6. you know what would have been a \u001b[31mBETTER\u001b[0m end to death note?\n",
      "7. [spoilers] the second part: do you think it sucks, and why? is it \u001b[31mBETTER\u001b[0m in the manga?\n",
      "8. which is \u001b[31mBETTER\u001b[0m?\n",
      "9. \u001b[31mBETTER\u001b[0m than her\n",
      "10. up vote if you like the manga \u001b[31mBETTER\u001b[0m and downvot if anime.\n"
     ]
    }
   ],
   "source": [
    "highlight_word_of_interest(deathnote_titles,\"better\")"
   ]
  },
  {
   "cell_type": "markdown",
   "metadata": {},
   "source": [
    "Its difficult to speculate exactly what makes \"better\" a strong indicator of death note. We suspect this is an artifact of word association. Character names and other related words like \"manga\" appear alongside \"better\"."
   ]
  },
  {
   "cell_type": "markdown",
   "metadata": {},
   "source": [
    "### Interpreting model coefficients\n",
    "\n",
    "Since logistic regression coefficients can be directly interpeted as the log of the odds of success (being from r/OnePunchMan), or, once exponentiated, as the odds of success.\n",
    "\n",
    "$$\\mu = \\text{the odds of $y$ being in the category associated with 1, or success}$$\n",
    "\n",
    "$$log(\\mu) = \\beta_0 + \\beta_1X_1$$\n",
    "\n",
    "$$\\mu = e^{\\beta_0 + \\beta_1X_1}$$\n",
    "\n",
    "As such, with every unit increase in $X_1$ we can say:\n",
    "- A one unit increase in $X_1$ means the log-odds of success increases by $\\beta_1$.  \n",
    "- A one unit increase in $X_1$ means that success is $e^{\\beta_1}$ times as likely  \n"
   ]
  },
  {
   "cell_type": "code",
   "execution_count": 344,
   "metadata": {},
   "outputs": [
    {
     "data": {
      "text/html": [
       "<div>\n",
       "<style scoped>\n",
       "    .dataframe tbody tr th:only-of-type {\n",
       "        vertical-align: middle;\n",
       "    }\n",
       "\n",
       "    .dataframe tbody tr th {\n",
       "        vertical-align: top;\n",
       "    }\n",
       "\n",
       "    .dataframe thead th {\n",
       "        text-align: right;\n",
       "    }\n",
       "</style>\n",
       "<table border=\"1\" class=\"dataframe\">\n",
       "  <thead>\n",
       "    <tr style=\"text-align: right;\">\n",
       "      <th></th>\n",
       "      <th>$\\beta_1$</th>\n",
       "      <th>$e^{\\beta_1}$</th>\n",
       "      <th>$\\frac{1}{e^{\\beta_1}}$</th>\n",
       "    </tr>\n",
       "  </thead>\n",
       "  <tbody>\n",
       "    <tr>\n",
       "      <th>spoiler</th>\n",
       "      <td>3.82</td>\n",
       "      <td>45.604208</td>\n",
       "      <td>0.021928</td>\n",
       "    </tr>\n",
       "    <tr>\n",
       "      <th>no spoiler</th>\n",
       "      <td>2.31</td>\n",
       "      <td>10.074425</td>\n",
       "      <td>0.099261</td>\n",
       "    </tr>\n",
       "    <tr>\n",
       "      <th>latest</th>\n",
       "      <td>1.54</td>\n",
       "      <td>4.664590</td>\n",
       "      <td>0.214381</td>\n",
       "    </tr>\n",
       "    <tr>\n",
       "      <th>no</th>\n",
       "      <td>1.31</td>\n",
       "      <td>3.706174</td>\n",
       "      <td>0.269820</td>\n",
       "    </tr>\n",
       "    <tr>\n",
       "      <th>blast</th>\n",
       "      <td>1.31</td>\n",
       "      <td>3.706174</td>\n",
       "      <td>0.269820</td>\n",
       "    </tr>\n",
       "  </tbody>\n",
       "</table>\n",
       "</div>"
      ],
      "text/plain": [
       "            $\\beta_1$  $e^{\\beta_1}$  $\\frac{1}{e^{\\beta_1}}$\n",
       "spoiler          3.82      45.604208                 0.021928\n",
       "no spoiler       2.31      10.074425                 0.099261\n",
       "latest           1.54       4.664590                 0.214381\n",
       "no               1.31       3.706174                 0.269820\n",
       "blast            1.31       3.706174                 0.269820"
      ]
     },
     "execution_count": 344,
     "metadata": {},
     "output_type": "execute_result"
    }
   ],
   "source": [
    "# Top coefficients for r/OnePunchMan\n",
    "coefs_df = pd.DataFrame({\"$\\\\beta_1$\":all_coefs, \"$e^{\\\\beta_1}$\" :np.exp(all_coefs)}, all_tokens)\n",
    "coefs_df[\"$\\\\frac{1}{e^{\\\\beta_1}}$\"] = 1 / coefs_df.iloc[:,1]\n",
    "coefs_df.head()"
   ]
  },
  {
   "cell_type": "markdown",
   "metadata": {},
   "source": [
    "We see that for every instance the word \"spoiler\" appears in a subreddit title of our dataset...:\n",
    "- ...the log-odds of that observation being from r/OnePunchMan increases by $\\beta_1$, or 3.82.  \n",
    "- ...the odds of that observation being from r/OnePunchMan is $e^{\\beta_1}$, or 45.6, times as likely as being from r/deathnote.\n"
   ]
  },
  {
   "cell_type": "code",
   "execution_count": 345,
   "metadata": {},
   "outputs": [
    {
     "data": {
      "text/html": [
       "<div>\n",
       "<style scoped>\n",
       "    .dataframe tbody tr th:only-of-type {\n",
       "        vertical-align: middle;\n",
       "    }\n",
       "\n",
       "    .dataframe tbody tr th {\n",
       "        vertical-align: top;\n",
       "    }\n",
       "\n",
       "    .dataframe thead th {\n",
       "        text-align: right;\n",
       "    }\n",
       "</style>\n",
       "<table border=\"1\" class=\"dataframe\">\n",
       "  <thead>\n",
       "    <tr style=\"text-align: right;\">\n",
       "      <th></th>\n",
       "      <th>$\\beta_1$</th>\n",
       "      <th>$e^{\\beta_1}$</th>\n",
       "      <th>$\\frac{1}{e^{\\beta_1}}$</th>\n",
       "    </tr>\n",
       "  </thead>\n",
       "  <tbody>\n",
       "    <tr>\n",
       "      <th>light</th>\n",
       "      <td>-1.38</td>\n",
       "      <td>0.251579</td>\n",
       "      <td>3.974902</td>\n",
       "    </tr>\n",
       "    <tr>\n",
       "      <th>death</th>\n",
       "      <td>-1.32</td>\n",
       "      <td>0.267135</td>\n",
       "      <td>3.743421</td>\n",
       "    </tr>\n",
       "    <tr>\n",
       "      <th>note</th>\n",
       "      <td>-1.12</td>\n",
       "      <td>0.326280</td>\n",
       "      <td>3.064854</td>\n",
       "    </tr>\n",
       "    <tr>\n",
       "      <th>death note</th>\n",
       "      <td>-1.09</td>\n",
       "      <td>0.336216</td>\n",
       "      <td>2.974274</td>\n",
       "    </tr>\n",
       "    <tr>\n",
       "      <th>just</th>\n",
       "      <td>-0.97</td>\n",
       "      <td>0.379083</td>\n",
       "      <td>2.637944</td>\n",
       "    </tr>\n",
       "  </tbody>\n",
       "</table>\n",
       "</div>"
      ],
      "text/plain": [
       "            $\\beta_1$  $e^{\\beta_1}$  $\\frac{1}{e^{\\beta_1}}$\n",
       "light           -1.38       0.251579                 3.974902\n",
       "death           -1.32       0.267135                 3.743421\n",
       "note            -1.12       0.326280                 3.064854\n",
       "death note      -1.09       0.336216                 2.974274\n",
       "just            -0.97       0.379083                 2.637944"
      ]
     },
     "execution_count": 345,
     "metadata": {},
     "output_type": "execute_result"
    }
   ],
   "source": [
    "# Top coefficients for r/deathnote\n",
    "coefs_df.tail()[::-1]"
   ]
  },
  {
   "cell_type": "markdown",
   "metadata": {},
   "source": [
    "We see that for every instance the word \"light\" appears in a subreddit title of our dataset...:\n",
    "- ...the log-odds of that observation being from r/OnePunchMan _decreases_ by $\\beta_1$, or 1.38.  \n",
    "- ...the odds of that observation being from r/deathnote is $\\frac{1}{e^{\\beta_1}}$, or 4, times as likely as being from r/OnePunchMan.\n"
   ]
  },
  {
   "cell_type": "markdown",
   "metadata": {},
   "source": [
    "### Investigating model missclassification\n",
    "It's interesting to see exactly where the model fails as a way to potentially improve model performance, as well as explain possible issues with the data itself."
   ]
  },
  {
   "cell_type": "code",
   "execution_count": 400,
   "metadata": {},
   "outputs": [],
   "source": [
    "def find_missing_data_points(model, X, y):\n",
    "    '''Returns a dataframe missclassified datapoints'''\n",
    "    preds = model.predict(X)\n",
    "    missing = preds != y\n",
    "    return pd.DataFrame({\n",
    "        \"title\": X[missing],\n",
    "        \"pred\": preds[missing],\n",
    "        \"actual\": y[missing]\n",
    "    })"
   ]
  },
  {
   "cell_type": "code",
   "execution_count": 409,
   "metadata": {},
   "outputs": [
    {
     "data": {
      "text/html": [
       "<div>\n",
       "<style scoped>\n",
       "    .dataframe tbody tr th:only-of-type {\n",
       "        vertical-align: middle;\n",
       "    }\n",
       "\n",
       "    .dataframe tbody tr th {\n",
       "        vertical-align: top;\n",
       "    }\n",
       "\n",
       "    .dataframe thead th {\n",
       "        text-align: right;\n",
       "    }\n",
       "</style>\n",
       "<table border=\"1\" class=\"dataframe\">\n",
       "  <thead>\n",
       "    <tr style=\"text-align: right;\">\n",
       "      <th></th>\n",
       "      <th>title</th>\n",
       "      <th>pred</th>\n",
       "      <th>actual</th>\n",
       "    </tr>\n",
       "  </thead>\n",
       "  <tbody>\n",
       "    <tr>\n",
       "      <th>5</th>\n",
       "      <td>look for a manga artist</td>\n",
       "      <td>r/OnePunchMan</td>\n",
       "      <td>r/deathnote</td>\n",
       "    </tr>\n",
       "    <tr>\n",
       "      <th>74</th>\n",
       "      <td>[spoilers] unpopular opinion</td>\n",
       "      <td>r/OnePunchMan</td>\n",
       "      <td>r/deathnote</td>\n",
       "    </tr>\n",
       "    <tr>\n",
       "      <th>159</th>\n",
       "      <td>yes, but actual no.</td>\n",
       "      <td>r/OnePunchMan</td>\n",
       "      <td>r/deathnote</td>\n",
       "    </tr>\n",
       "    <tr>\n",
       "      <th>268</th>\n",
       "      <td>spoiler everywhere!!</td>\n",
       "      <td>r/OnePunchMan</td>\n",
       "      <td>r/deathnote</td>\n",
       "    </tr>\n",
       "    <tr>\n",
       "      <th>302</th>\n",
       "      <td>final i can bring justic</td>\n",
       "      <td>r/OnePunchMan</td>\n",
       "      <td>r/deathnote</td>\n",
       "    </tr>\n",
       "    <tr>\n",
       "      <th>407</th>\n",
       "      <td>season 2 predictions?</td>\n",
       "      <td>r/OnePunchMan</td>\n",
       "      <td>r/deathnote</td>\n",
       "    </tr>\n",
       "    <tr>\n",
       "      <th>461</th>\n",
       "      <td>parallel in game of throne (spoilers)</td>\n",
       "      <td>r/OnePunchMan</td>\n",
       "      <td>r/deathnote</td>\n",
       "    </tr>\n",
       "    <tr>\n",
       "      <th>612</th>\n",
       "      <td>this might seem stupid but... (spoilers!!)</td>\n",
       "      <td>r/OnePunchMan</td>\n",
       "      <td>r/deathnote</td>\n",
       "    </tr>\n",
       "    <tr>\n",
       "      <th>661</th>\n",
       "      <td>[spoilers] what the fffffff.......</td>\n",
       "      <td>r/OnePunchMan</td>\n",
       "      <td>r/deathnote</td>\n",
       "    </tr>\n",
       "    <tr>\n",
       "      <th>791</th>\n",
       "      <td>[spoilers] let make some fiction and debate.</td>\n",
       "      <td>r/OnePunchMan</td>\n",
       "      <td>r/deathnote</td>\n",
       "    </tr>\n",
       "    <tr>\n",
       "      <th>853</th>\n",
       "      <td>anim vs. manga</td>\n",
       "      <td>r/OnePunchMan</td>\n",
       "      <td>r/deathnote</td>\n",
       "    </tr>\n",
       "    <tr>\n",
       "      <th>1119</th>\n",
       "      <td>[amv] amv by my wife: ♥ onepunch</td>\n",
       "      <td>r/deathnote</td>\n",
       "      <td>r/OnePunchMan</td>\n",
       "    </tr>\n",
       "    <tr>\n",
       "      <th>1412</th>\n",
       "      <td>[manga] low qualiti meme</td>\n",
       "      <td>r/deathnote</td>\n",
       "      <td>r/OnePunchMan</td>\n",
       "    </tr>\n",
       "  </tbody>\n",
       "</table>\n",
       "</div>"
      ],
      "text/plain": [
       "                                             title           pred  \\\n",
       "5                          look for a manga artist  r/OnePunchMan   \n",
       "74                    [spoilers] unpopular opinion  r/OnePunchMan   \n",
       "159                            yes, but actual no.  r/OnePunchMan   \n",
       "268                           spoiler everywhere!!  r/OnePunchMan   \n",
       "302                       final i can bring justic  r/OnePunchMan   \n",
       "407                          season 2 predictions?  r/OnePunchMan   \n",
       "461          parallel in game of throne (spoilers)  r/OnePunchMan   \n",
       "612     this might seem stupid but... (spoilers!!)  r/OnePunchMan   \n",
       "661             [spoilers] what the fffffff.......  r/OnePunchMan   \n",
       "791   [spoilers] let make some fiction and debate.  r/OnePunchMan   \n",
       "853                                 anim vs. manga  r/OnePunchMan   \n",
       "1119              [amv] amv by my wife: ♥ onepunch    r/deathnote   \n",
       "1412                      [manga] low qualiti meme    r/deathnote   \n",
       "\n",
       "             actual  \n",
       "5       r/deathnote  \n",
       "74      r/deathnote  \n",
       "159     r/deathnote  \n",
       "268     r/deathnote  \n",
       "302     r/deathnote  \n",
       "407     r/deathnote  \n",
       "461     r/deathnote  \n",
       "612     r/deathnote  \n",
       "661     r/deathnote  \n",
       "791     r/deathnote  \n",
       "853     r/deathnote  \n",
       "1119  r/OnePunchMan  \n",
       "1412  r/OnePunchMan  "
      ]
     },
     "execution_count": 409,
     "metadata": {},
     "output_type": "execute_result"
    }
   ],
   "source": [
    "# using entire dataset to explore wrong predictions\n",
    "missed = find_missing_data_points(model_cvec_multNB, X, y)\n",
    "mapping = {\n",
    "    1:\"r/OnePunchMan\",\n",
    "    0:\"r/deathnote\"\n",
    "}\n",
    "missed[\"pred\"]   = missed[\"pred\"].map(mapping)\n",
    "missed[\"actual\"] = missed[\"actual\"].map(mapping)\n",
    "\n",
    "missed.iloc[::5,:] # just taking a quick sample"
   ]
  },
  {
   "cell_type": "markdown",
   "metadata": {},
   "source": [
    "It's clear the word \"spoiler\" is highly correlated with the One Punch Man subreddit, however this word does appear in the Death Note subreddit as well. Its unsurprising then to see the model make a _tradeoff between capturing many true positives while making a few false positive predictions_.  \n",
    "\n",
    "After further analysis (not shown):\n",
    "- We see one pitfall of using man-made text - _mispellings_. There are a number of mispellings found in the subreddit titles associated with the false negative predictions. For example:\n",
    "    - \"Garo\" should be \"Garou\", a character from One Punch Man.  \n",
    "    - \"fubiki\" should be \"fubuki\", another character\n",
    "    - \"moomin rider\" should be \"mumen rider\", another character\n",
    "    - \"sopilers\" is also a mispelled \"spoilers\", the dominant feature \n",
    "\n",
    "__It would seem the main culprit behind many of the model's false negative predictions is human error.__"
   ]
  },
  {
   "cell_type": "markdown",
   "metadata": {},
   "source": [
    "## Conclusion\n",
    "- After assessing the data from both subreddits, it was clear there were distinguishing features present.  \n",
    "- The data were cleaned by lowercasing all text, removing special characters and numbers, and removing the lowest impact stop words. Each word was also stemmed using SnowballStemmer (english).    \n",
    "- A model baseline for accuracy was established by using the most frequent outcome, r/deathnote at ~61% accuracy.  \n",
    "- Then, after fitting various combinations of vectorizers and models, a single model was selected, the CVEC + MultNB model.\n",
    "- This selected model performed well, with a 97% accuracy on the testing dataset.\n",
    "\n",
    "__Therefore, it is possible to thwart the hacker's actions! With ~97% accuracy, the swapped posts can successfully be assigned to their respective subreddits.__ "
   ]
  },
  {
   "cell_type": "markdown",
   "metadata": {},
   "source": [
    "## Assumptions\n",
    "In order to arrive at this conclusion, a number of assumptions were made.\n",
    "1. It was assummed removing casing, special characters and numbers would not have a significant effect on the result. It is possible some of these missing features could have played some role in helping to distinguish subreddits and improve accuracy.\n",
    "2. The Naive Bayes model assumes features are independent and unrelated. However, this requirement is most certainly violated in this case, since language necessarily has order and rules associated with it.\n",
    "3. After using the TfidfVectorizer (TFIDF) for a few models, we stopped including it in model experiments, assuming it was inferior to CVEC. It is possible if the TFIDF was used in all model combinations, an even more accurate model could have been discovered.\n",
    "4. The starting data was slightly unbalanced, favoring r/deathnote. By keeping these classes unbalanced, it is assumed this imbalance will not affect the model, however it is possible some bias against r/OnePunchMan exists."
   ]
  },
  {
   "cell_type": "markdown",
   "metadata": {},
   "source": [
    "## Recommendations\n",
    "This model has a high dependence on the temporal markers found in the One Punch Man subreddit. As such, we would not recommend using this model after the One Punch Man anime is out of season or has concluded. \n",
    "\n",
    "The issue over unbalanced classes could be rectified using bootstrapping as a means to \"boost\" the number of observations for the minority class (r/OnePunchMan).\n",
    "\n",
    "We were surprised to find the best model to not be the VotingClassifier. However, we know ensemble models tend to require more fine-tuning and if we could go back and work on this problem again we might consider spending more time on ensemble models.\n",
    "\n",
    "Another weakness of the selected predictive model is its lack of portability. The model will likely only work well on determining the r/deathnote and r/OnePunchMan subreddits at the time the data were collected. To better accomodate for more subreddits/classes, a larger number of subreddits would need consideration. With that said, the immediate issue of returning the subreddits to their intended state can be effectively addressed using the selected model."
   ]
  },
  {
   "cell_type": "markdown",
   "metadata": {},
   "source": [
    "## References\n",
    "- [r/OnePunchMan](https://www.reddit.com/r/OnePunchMan/)\n",
    "- [r/deathnote](https://www.reddit.com/r/deathnote/)\n",
    "- [Reddit API Documentation](https://www.reddit.com/dev/api/)"
   ]
  }
 ],
 "metadata": {
  "kernelspec": {
   "display_name": "Python 3",
   "language": "python",
   "name": "python3"
  },
  "language_info": {
   "codemirror_mode": {
    "name": "ipython",
    "version": 3
   },
   "file_extension": ".py",
   "mimetype": "text/x-python",
   "name": "python",
   "nbconvert_exporter": "python",
   "pygments_lexer": "ipython3",
   "version": "3.7.3"
  }
 },
 "nbformat": 4,
 "nbformat_minor": 2
}
